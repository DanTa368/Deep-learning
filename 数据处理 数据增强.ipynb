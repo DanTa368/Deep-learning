{
 "cells": [
  {
   "cell_type": "markdown",
   "id": "561f8b22",
   "metadata": {},
   "source": [
    "### 本地数据读取和处理"
   ]
  },
  {
   "cell_type": "code",
   "execution_count": 1,
   "id": "c38b75b0",
   "metadata": {},
   "outputs": [],
   "source": [
    "import tensorflow as tf\n",
    "from PIL import Image\n",
    "import numpy as np\n",
    "import os\n",
    "import time"
   ]
  },
  {
   "cell_type": "code",
   "execution_count": 2,
   "id": "1f3f9e04",
   "metadata": {},
   "outputs": [],
   "source": [
    "def read_img(file_path):\n",
    "    start = time.time()\n",
    "    file_name = os.listdir(file_path)\n",
    "    x = []\n",
    "    y = []\n",
    "    for i in file_name:\n",
    "        img = Image.open(file_path+i)\n",
    "        img = img.resize((28,28)).convert('L')\n",
    "        img_array = np.array(img)\n",
    "        label = i.split('_')[-1].split('.')[0]\n",
    "        x.append(img_array)\n",
    "        y.append(label)\n",
    "    x = np.array(x)\n",
    "    y = np.array(y)\n",
    "    y = y.astype(np.int64)\n",
    "    print(f'run time is {time.time() - start}')\n",
    "    return x,y"
   ]
  },
  {
   "cell_type": "code",
   "execution_count": 5,
   "id": "78e3ce3d",
   "metadata": {},
   "outputs": [
    {
     "name": "stdout",
     "output_type": "stream",
     "text": [
      "run time is 38.015801429748535\n"
     ]
    }
   ],
   "source": [
    "x_test,y_test = read_img(\"./mnist_image_label/mnist_train_jpg_60000/\")"
   ]
  },
  {
   "cell_type": "code",
   "execution_count": 6,
   "id": "01d9e9ec",
   "metadata": {},
   "outputs": [
    {
     "name": "stdout",
     "output_type": "stream",
     "text": [
      "run time is 7.674140930175781\n"
     ]
    }
   ],
   "source": [
    "x_train,y_train = read_img(\"./mnist_image_label/mnist_train_jpg_60000/\")"
   ]
  },
  {
   "cell_type": "code",
   "execution_count": 7,
   "id": "57dd9ac2",
   "metadata": {},
   "outputs": [],
   "source": [
    "np.save(\"./x_test.npy\",x_test)\n",
    "np.save(\"./x_train.npy\",x_train)"
   ]
  },
  {
   "cell_type": "code",
   "execution_count": 8,
   "id": "48a36538",
   "metadata": {},
   "outputs": [],
   "source": [
    "np.save(\"./y_test.npy\",y_test)\n",
    "np.save(\"./y_train.npy\",y_train)"
   ]
  },
  {
   "cell_type": "code",
   "execution_count": 9,
   "id": "4c62f6e0",
   "metadata": {},
   "outputs": [
    {
     "name": "stdout",
     "output_type": "stream",
     "text": [
      "run time is 0.031000137329101562\n",
      "run time is 0.027999162673950195\n"
     ]
    }
   ],
   "source": [
    "start = time.time()\n",
    "x = np.load(\"./x_train.npy\")\n",
    "x = np.load(\"./y_train.npy\")\n",
    "print(f'run time is {time.time() - start}')\n",
    "start2 = time.time()\n",
    "x1 = np.load(\"./x_test.npy\")\n",
    "y1 = np.load(\"./y_test.npy\")\n",
    "print(f'run time is {time.time() - start2}')"
   ]
  },
  {
   "cell_type": "markdown",
   "id": "010f7d68",
   "metadata": {},
   "source": [
    "# 数据增强"
   ]
  },
  {
   "cell_type": "code",
   "execution_count": 10,
   "id": "cb84e597",
   "metadata": {},
   "outputs": [],
   "source": [
    "import tensorflow as tf\n",
    "img_gen = tf.keras.preprocessing.image.ImageDataGenerator(\n",
    "    rescale=1/255,\n",
    "    rotation_range=20,\n",
    "    width_shift_range=0.1,\n",
    "    height_shift_range=0.05,\n",
    "    horizontal_flip=False,\n",
    "    zoom_range=0.1\n",
    ")"
   ]
  },
  {
   "cell_type": "code",
   "execution_count": 11,
   "id": "33427a00",
   "metadata": {},
   "outputs": [],
   "source": [
    "model = tf.keras.models.Sequential([\n",
    "    tf.keras.layers.Flatten(),#扁平化 相当于reshape(num,-1)\n",
    "    tf.keras.layers.Dense(200,activation=\"relu\"),#relu,sigmoid\n",
    "    tf.keras.layers.Dense(100,activation=\"relu\"),\n",
    "    tf.keras.layers.Dense(50,activation=\"relu\"),\n",
    "    tf.keras.layers.Dense(10,activation='softmax')#输出层,节点数=类别数，激活函数用softmax 概率总和为1\n",
    "])"
   ]
  },
  {
   "cell_type": "code",
   "execution_count": 12,
   "id": "46fc4b6f",
   "metadata": {},
   "outputs": [
    {
     "name": "stdout",
     "output_type": "stream",
     "text": [
      "Epoch 1/10\n",
      "1875/1875 [==============================] - ETA: 0s - loss: 1.0905 - accuracy: 0.6668WARNING:tensorflow:Model was constructed with shape (None, None, None, None) for input KerasTensor(type_spec=TensorSpec(shape=(None, None, None, None), dtype=tf.float32, name='flatten_input'), name='flatten_input', description=\"created by layer 'flatten_input'\"), but it was called on an input with incompatible shape (None, 28, 28).\n",
      "1875/1875 [==============================] - 9s 5ms/step - loss: 1.0905 - accuracy: 0.6668 - val_loss: 35.9355 - val_accuracy: 0.8888\n",
      "Epoch 2/10\n",
      "1875/1875 [==============================] - 9s 5ms/step - loss: 0.5382 - accuracy: 0.8407 - val_loss: 31.6495 - val_accuracy: 0.9156\n",
      "Epoch 3/10\n",
      "1875/1875 [==============================] - 9s 5ms/step - loss: 0.3787 - accuracy: 0.8861 - val_loss: 26.9833 - val_accuracy: 0.9362\n",
      "Epoch 4/10\n",
      "1875/1875 [==============================] - 9s 5ms/step - loss: 0.3027 - accuracy: 0.9097 - val_loss: 22.7761 - val_accuracy: 0.9454\n",
      "Epoch 5/10\n",
      "1875/1875 [==============================] - 9s 5ms/step - loss: 0.2602 - accuracy: 0.9218 - val_loss: 21.8639 - val_accuracy: 0.9498\n",
      "Epoch 6/10\n",
      "1875/1875 [==============================] - 9s 5ms/step - loss: 0.2348 - accuracy: 0.9306 - val_loss: 17.4770 - val_accuracy: 0.9594\n",
      "Epoch 7/10\n",
      "1875/1875 [==============================] - 9s 5ms/step - loss: 0.2121 - accuracy: 0.9369 - val_loss: 18.1336 - val_accuracy: 0.9583\n",
      "Epoch 8/10\n",
      "1875/1875 [==============================] - 9s 5ms/step - loss: 0.1967 - accuracy: 0.9408 - val_loss: 18.4919 - val_accuracy: 0.9594\n",
      "Epoch 9/10\n",
      "1875/1875 [==============================] - 9s 5ms/step - loss: 0.1870 - accuracy: 0.9445 - val_loss: 15.2862 - val_accuracy: 0.9661\n",
      "Epoch 10/10\n",
      "1875/1875 [==============================] - 9s 5ms/step - loss: 0.1743 - accuracy: 0.9474 - val_loss: 15.0187 - val_accuracy: 0.9655\n",
      "Model: \"sequential\"\n",
      "_________________________________________________________________\n",
      " Layer (type)                Output Shape              Param #   \n",
      "=================================================================\n",
      " flatten (Flatten)           (None, None)              0         \n",
      "                                                                 \n",
      " dense (Dense)               (None, 200)               157000    \n",
      "                                                                 \n",
      " dense_1 (Dense)             (None, 100)               20100     \n",
      "                                                                 \n",
      " dense_2 (Dense)             (None, 50)                5050      \n",
      "                                                                 \n",
      " dense_3 (Dense)             (None, 10)                510       \n",
      "                                                                 \n",
      "=================================================================\n",
      "Total params: 182,660\n",
      "Trainable params: 182,660\n",
      "Non-trainable params: 0\n",
      "_________________________________________________________________\n"
     ]
    }
   ],
   "source": [
    "model.compile(optimizer=tf.keras.optimizers.SGD(),\n",
    "              loss=tf.keras.losses.SparseCategoricalCrossentropy(from_logits=False),\n",
    "             metrics=['accuracy'])\n",
    "\n",
    "checkpoint_save_path = \"./checkpoint/mnist.ckpt\"\n",
    "\n",
    "cp_callback = tf.keras.callbacks.ModelCheckpoint(filepath=checkpoint_save_path,\n",
    "                                                save_weights_only=True,\n",
    "                                                save_best_only=True)\n",
    "\n",
    "model.fit(img_gen.flow(x_train.reshape(60000,28,28,1),y_train),batch_size=64,epochs=10,\n",
    "          validation_data=(x_test,y_test),\n",
    "         callbacks=[cp_callback])\n",
    "\n",
    "model.summary()"
   ]
  },
  {
   "cell_type": "code",
   "execution_count": null,
   "id": "259a99b6",
   "metadata": {},
   "outputs": [],
   "source": []
  },
  {
   "cell_type": "code",
   "execution_count": null,
   "id": "fce47c68",
   "metadata": {},
   "outputs": [],
   "source": []
  },
  {
   "cell_type": "code",
   "execution_count": null,
   "id": "8defe51e",
   "metadata": {},
   "outputs": [],
   "source": []
  }
 ],
 "metadata": {
  "kernelspec": {
   "display_name": "Python 3 (ipykernel)",
   "language": "python",
   "name": "python3"
  },
  "language_info": {
   "codemirror_mode": {
    "name": "ipython",
    "version": 3
   },
   "file_extension": ".py",
   "mimetype": "text/x-python",
   "name": "python",
   "nbconvert_exporter": "python",
   "pygments_lexer": "ipython3",
   "version": "3.9.13"
  }
 },
 "nbformat": 4,
 "nbformat_minor": 5
}
