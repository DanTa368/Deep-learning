{
 "cells": [
  {
   "cell_type": "markdown",
   "id": "561f8b22",
   "metadata": {},
   "source": [
    "### 本地数据读取和处理"
   ]
  },
  {
   "cell_type": "code",
   "execution_count": 1,
   "id": "c38b75b0",
   "metadata": {},
   "outputs": [],
   "source": [
    "import tensorflow as tf\n",
    "from PIL import Image\n",
    "import numpy as np\n",
    "import os\n",
    "import time"
   ]
  },
  {
   "cell_type": "code",
   "execution_count": 2,
   "id": "1f3f9e04",
   "metadata": {},
   "outputs": [],
   "source": [
    "def read_img(file_path):\n",
    "    start = time.time()\n",
    "    file_name = os.listdir(file_path)\n",
    "    x = []\n",
    "    y = []\n",
    "    for i in file_name:\n",
    "        img = Image.open(file_path+i)\n",
    "        img = img.resize((28,28)).convert('L')\n",
    "        img_array = np.array(img)\n",
    "        label = i.split('_')[-1].split('.')[0]\n",
    "        x.append(img_array)\n",
    "        y.append(label)\n",
    "    x = np.array(x)\n",
    "    y = np.array(y)\n",
    "    y = y.astype(np.int64)\n",
    "    print(f'run time is {time.time() - start}')\n",
    "    return x,y"
   ]
  },
  {
   "cell_type": "code",
   "execution_count": 5,
   "id": "78e3ce3d",
   "metadata": {},
   "outputs": [
    {
     "name": "stdout",
     "output_type": "stream",
     "text": [
      "run time is 38.015801429748535\n"
     ]
    }
   ],
   "source": [
    "x_test,y_test = read_img(\"./mnist_image_label/mnist_train_jpg_60000/\")"
   ]
  },
  {
   "cell_type": "code",
   "execution_count": 6,
   "id": "ee1ca327",
   "metadata": {},
   "outputs": [
    {
     "name": "stdout",
     "output_type": "stream",
     "text": [
      "run time is 7.674140930175781\n"
     ]
    }
   ],
   "source": [
    "x_train,y_train = read_img(\"./mnist_image_label/mnist_train_jpg_60000/\")"
   ]
  },
  {
   "cell_type": "code",
   "execution_count": 7,
   "id": "57dd9ac2",
   "metadata": {},
   "outputs": [],
   "source": [
    "np.save(\"./x_test.npy\",x_test)\n",
    "np.save(\"./x_train.npy\",x_train)"
   ]
  },
  {
   "cell_type": "code",
   "execution_count": 8,
   "id": "48a36538",
   "metadata": {},
   "outputs": [],
   "source": [
    "np.save(\"./y_test.npy\",y_test)\n",
    "np.save(\"./y_train.npy\",y_train)"
   ]
  },
  {
   "cell_type": "code",
   "execution_count": 9,
   "id": "a5de04e8",
   "metadata": {},
   "outputs": [
    {
     "name": "stdout",
     "output_type": "stream",
     "text": [
      "run time is 0.031000137329101562\n",
      "run time is 0.027999162673950195\n"
     ]
    }
   ],
   "source": [
    "start = time.time()\n",
    "x = np.load(\"./x_train.npy\")\n",
    "x = np.load(\"./y_train.npy\")\n",
    "print(f'run time is {time.time() - start}')\n",
    "start2 = time.time()\n",
    "x1 = np.load(\"./x_test.npy\")\n",
    "y1 = np.load(\"./y_test.npy\")\n",
    "print(f'run time is {time.time() - start2}')"
   ]
  },
  {
   "cell_type": "markdown",
   "id": "ae0d98e8",
   "metadata": {},
   "source": [
    "# 数据增强"
   ]
  },
  {
   "cell_type": "code",
   "execution_count": 10,
   "id": "11f3d1ae",
   "metadata": {},
   "outputs": [],
   "source": [
    "import tensorflow as tf\n",
    "img_gen = tf.keras.preprocessing.image.ImageDataGenerator(\n",
    "    rescale=1/255,\n",
    "    rotation_range=20,\n",
    "    width_shift_range=0.1,\n",
    "    height_shift_range=0.05,\n",
    "    horizontal_flip=False,\n",
    "    zoom_range=0.1\n",
    ")"
   ]
  },
  {
   "cell_type": "code",
   "execution_count": 11,
   "id": "41c28df9",
   "metadata": {},
   "outputs": [],
   "source": [
    "model = tf.keras.models.Sequential([\n",
    "    tf.keras.layers.Flatten(),#扁平化 相当于reshape(num,-1)\n",
    "    tf.keras.layers.Dense(200,activation=\"relu\"),#relu,sigmoid\n",
    "    tf.keras.layers.Dense(100,activation=\"relu\"),\n",
    "    tf.keras.layers.Dense(50,activation=\"relu\"),\n",
    "    tf.keras.layers.Dense(10,activation='softmax')#输出层,节点数=类别数，激活函数用softmax 概率总和为1\n",
    "])"
   ]
  },
  {
   "cell_type": "code",
   "execution_count": 12,
   "id": "9e7b81d1",
   "metadata": {},
   "outputs": [
    {
     "name": "stdout",
     "output_type": "stream",
     "text": [
      "Epoch 1/10\n",
      "1875/1875 [==============================] - ETA: 0s - loss: 1.0905 - accuracy: 0.6668WARNING:tensorflow:Model was constructed with shape (None, None, None, None) for input KerasTensor(type_spec=TensorSpec(shape=(None, None, None, None), dtype=tf.float32, name='flatten_input'), name='flatten_input', description=\"created by layer 'flatten_input'\"), but it was called on an input with incompatible shape (None, 28, 28).\n",
      "1875/1875 [==============================] - 9s 5ms/step - loss: 1.0905 - accuracy: 0.6668 - val_loss: 35.9355 - val_accuracy: 0.8888\n",
      "Epoch 2/10\n",
      "1875/1875 [==============================] - 9s 5ms/step - loss: 0.5382 - accuracy: 0.8407 - val_loss: 31.6495 - val_accuracy: 0.9156\n",
      "Epoch 3/10\n",
      "1875/1875 [==============================] - 9s 5ms/step - loss: 0.3787 - accuracy: 0.8861 - val_loss: 26.9833 - val_accuracy: 0.9362\n",
      "Epoch 4/10\n",
      "1875/1875 [==============================] - 9s 5ms/step - loss: 0.3027 - accuracy: 0.9097 - val_loss: 22.7761 - val_accuracy: 0.9454\n",
      "Epoch 5/10\n",
      "1875/1875 [==============================] - 9s 5ms/step - loss: 0.2602 - accuracy: 0.9218 - val_loss: 21.8639 - val_accuracy: 0.9498\n",
      "Epoch 6/10\n",
      "1875/1875 [==============================] - 9s 5ms/step - loss: 0.2348 - accuracy: 0.9306 - val_loss: 17.4770 - val_accuracy: 0.9594\n",
      "Epoch 7/10\n",
      "1875/1875 [==============================] - 9s 5ms/step - loss: 0.2121 - accuracy: 0.9369 - val_loss: 18.1336 - val_accuracy: 0.9583\n",
      "Epoch 8/10\n",
      "1875/1875 [==============================] - 9s 5ms/step - loss: 0.1967 - accuracy: 0.9408 - val_loss: 18.4919 - val_accuracy: 0.9594\n",
      "Epoch 9/10\n",
      "1875/1875 [==============================] - 9s 5ms/step - loss: 0.1870 - accuracy: 0.9445 - val_loss: 15.2862 - val_accuracy: 0.9661\n",
      "Epoch 10/10\n",
      "1875/1875 [==============================] - 9s 5ms/step - loss: 0.1743 - accuracy: 0.9474 - val_loss: 15.0187 - val_accuracy: 0.9655\n",
      "Model: \"sequential\"\n",
      "_________________________________________________________________\n",
      " Layer (type)                Output Shape              Param #   \n",
      "=================================================================\n",
      " flatten (Flatten)           (None, None)              0         \n",
      "                                                                 \n",
      " dense (Dense)               (None, 200)               157000    \n",
      "                                                                 \n",
      " dense_1 (Dense)             (None, 100)               20100     \n",
      "                                                                 \n",
      " dense_2 (Dense)             (None, 50)                5050      \n",
      "                                                                 \n",
      " dense_3 (Dense)             (None, 10)                510       \n",
      "                                                                 \n",
      "=================================================================\n",
      "Total params: 182,660\n",
      "Trainable params: 182,660\n",
      "Non-trainable params: 0\n",
      "_________________________________________________________________\n"
     ]
    }
   ],
   "source": [
    "model.compile(optimizer=tf.keras.optimizers.SGD(),\n",
    "              loss=tf.keras.losses.SparseCategoricalCrossentropy(from_logits=False),\n",
    "             metrics=['accuracy'])\n",
    "\n",
    "checkpoint_save_path = \"./checkpoint/mnist.ckpt\"\n",
    "\n",
    "cp_callback = tf.keras.callbacks.ModelCheckpoint(filepath=checkpoint_save_path,\n",
    "                                                save_weights_only=True,\n",
    "                                                save_best_only=True)\n",
    "\n",
    "model.fit(img_gen.flow(x_train.reshape(60000,28,28,1),y_train),batch_size=64,epochs=10,\n",
    "          validation_data=(x_test,y_test),\n",
    "         callbacks=[cp_callback])\n",
    "\n",
    "model.summary()"
   ]
  },
  {
   "cell_type": "markdown",
   "id": "3aeaf7da",
   "metadata": {},
   "source": [
    "### 猫狗分类"
   ]
  },
  {
   "cell_type": "code",
   "execution_count": 20,
   "id": "4c664935",
   "metadata": {},
   "outputs": [],
   "source": [
    "import tensorflow as tf\n",
    "from PIL import Image\n",
    "import numpy as np\n",
    "import os\n",
    "import time\n",
    "from sklearn.model_selection import train_test_split"
   ]
  },
  {
   "cell_type": "code",
   "execution_count": 21,
   "id": "d8498a78",
   "metadata": {},
   "outputs": [],
   "source": [
    "def read_img(file_path):\n",
    "    start = time.time()\n",
    "    file_name = os.listdir(file_path)\n",
    "    x = []\n",
    "    y = []\n",
    "    for a in file_name:\n",
    "        for i in os.listdir(file_path+a):\n",
    "            img = Image.open(file_path+a+\"/\"+i)\n",
    "            img = img.resize((28,28)).convert('L')\n",
    "            img_array = np.array(img)\n",
    "            label = i.split('.')[0]\n",
    "            if label == 'cat':\n",
    "                label = [0]\n",
    "            else:\n",
    "                label = [1]\n",
    "            x.append(img_array)\n",
    "            y.append(label)\n",
    "    x = np.array(x)\n",
    "    y = np.array(y)\n",
    "    print(f'run time is {time.time() - start}')\n",
    "    return x,y"
   ]
  },
  {
   "cell_type": "code",
   "execution_count": 22,
   "id": "a906e5e4",
   "metadata": {},
   "outputs": [
    {
     "name": "stdout",
     "output_type": "stream",
     "text": [
      "run time is 3.227485179901123\n"
     ]
    }
   ],
   "source": [
    "x,y = read_img(\"./catVSdog/\")"
   ]
  },
  {
   "cell_type": "code",
   "execution_count": 23,
   "id": "78cbf728",
   "metadata": {},
   "outputs": [],
   "source": [
    "x_train,x_test,y_train,y_test = train_test_split(x,y,test_size=0.2)"
   ]
  },
  {
   "cell_type": "code",
   "execution_count": 24,
   "id": "1d041b25",
   "metadata": {},
   "outputs": [
    {
     "data": {
      "text/plain": [
       "(1731, 28, 28)"
      ]
     },
     "execution_count": 24,
     "metadata": {},
     "output_type": "execute_result"
    }
   ],
   "source": [
    "x_train.shape"
   ]
  },
  {
   "cell_type": "markdown",
   "id": "f8bb752b",
   "metadata": {},
   "source": [
    "### 打乱标签，数据集"
   ]
  },
  {
   "cell_type": "code",
   "execution_count": 25,
   "id": "ec51cae6",
   "metadata": {},
   "outputs": [],
   "source": [
    "state = np.random.get_state()\n",
    "np.random.shuffle(x_train)\n",
    "np.random.set_state(state)\n",
    "np.random.shuffle(y_train)"
   ]
  },
  {
   "cell_type": "code",
   "execution_count": 26,
   "id": "9c9c55a4",
   "metadata": {},
   "outputs": [],
   "source": [
    "import tensorflow as tf\n",
    "img_gen = tf.keras.preprocessing.image.ImageDataGenerator(\n",
    "    rescale=1/255,\n",
    "    rotation_range=20,\n",
    "    width_shift_range=0.1,\n",
    "    height_shift_range=0.05,\n",
    "    horizontal_flip=False,\n",
    "    zoom_range=0.1\n",
    ")"
   ]
  },
  {
   "cell_type": "code",
   "execution_count": 75,
   "id": "b559bfcd",
   "metadata": {},
   "outputs": [],
   "source": [
    "model = tf.keras.models.Sequential([\n",
    "    tf.keras.layers.Flatten(),#扁平化 相当于reshape(num,-1)\n",
    "    tf.keras.layers.Dense(200,activation=\"relu\"),#relu,sigmoid\n",
    "    tf.keras.layers.Dense(100,activation=\"relu\"),\n",
    "    tf.keras.layers.Dense(50,activation=\"relu\"),\n",
    "    tf.keras.layers.Dense(2,activation='softmax')#输出层,节点数=类别数，激活函数用softmax 概率总和为1\n",
    "])"
   ]
  },
  {
   "cell_type": "code",
   "execution_count": 76,
   "id": "708ee5cd",
   "metadata": {},
   "outputs": [
    {
     "name": "stdout",
     "output_type": "stream",
     "text": [
      "Epoch 1/20\n",
      "46/55 [========================>.....] - ETA: 0s - loss: 0.6801 - accuracy: 0.0870WARNING:tensorflow:Model was constructed with shape (None, None, None, None) for input KerasTensor(type_spec=TensorSpec(shape=(None, None, None, None), dtype=tf.float32, name='flatten_5_input'), name='flatten_5_input', description=\"created by layer 'flatten_5_input'\"), but it was called on an input with incompatible shape (None, 28, 28).\n",
      "55/55 [==============================] - 1s 8ms/step - loss: 0.6782 - accuracy: 0.0745 - val_loss: 24.1575 - val_accuracy: 0.1316\n",
      "Epoch 2/20\n",
      "55/55 [==============================] - 0s 7ms/step - loss: 0.6758 - accuracy: 0.1670 - val_loss: 22.9255 - val_accuracy: 0.8753\n",
      "Epoch 3/20\n",
      "55/55 [==============================] - 0s 5ms/step - loss: 0.6864 - accuracy: 0.2068 - val_loss: 34.3490 - val_accuracy: 0.0000e+00\n",
      "Epoch 4/20\n",
      "55/55 [==============================] - 0s 5ms/step - loss: 0.6674 - accuracy: 0.0092 - val_loss: 39.4355 - val_accuracy: 0.0046\n",
      "Epoch 5/20\n",
      "55/55 [==============================] - 0s 5ms/step - loss: 0.6610 - accuracy: 0.0526 - val_loss: 77.8509 - val_accuracy: 0.0046\n",
      "Epoch 6/20\n",
      "55/55 [==============================] - 0s 5ms/step - loss: 0.6654 - accuracy: 0.0300 - val_loss: 59.7902 - val_accuracy: 0.0139\n",
      "Epoch 7/20\n",
      "55/55 [==============================] - 0s 5ms/step - loss: 0.6610 - accuracy: 0.0774 - val_loss: 50.0949 - val_accuracy: 0.0416\n",
      "Epoch 8/20\n",
      "55/55 [==============================] - 0s 5ms/step - loss: 0.6635 - accuracy: 0.0988 - val_loss: 17.9915 - val_accuracy: 0.1894\n",
      "Epoch 9/20\n",
      "55/55 [==============================] - 0s 5ms/step - loss: 0.6572 - accuracy: 0.0780 - val_loss: 30.7657 - val_accuracy: 0.1339\n",
      "Epoch 10/20\n",
      "55/55 [==============================] - 0s 5ms/step - loss: 0.6541 - accuracy: 0.1063 - val_loss: 25.4178 - val_accuracy: 0.1986\n",
      "Epoch 11/20\n",
      "55/55 [==============================] - 0s 5ms/step - loss: 0.6589 - accuracy: 0.1092 - val_loss: 28.8781 - val_accuracy: 0.1871\n",
      "Epoch 12/20\n",
      "55/55 [==============================] - 0s 5ms/step - loss: 0.6554 - accuracy: 0.1150 - val_loss: 47.9317 - val_accuracy: 0.0993\n",
      "Epoch 13/20\n",
      "55/55 [==============================] - 0s 5ms/step - loss: 0.6583 - accuracy: 0.1456 - val_loss: 26.1804 - val_accuracy: 0.1963\n",
      "Epoch 14/20\n",
      "55/55 [==============================] - 0s 5ms/step - loss: 0.6530 - accuracy: 0.1415 - val_loss: 35.3170 - val_accuracy: 0.1085\n",
      "Epoch 15/20\n",
      "55/55 [==============================] - 0s 5ms/step - loss: 0.6546 - accuracy: 0.1404 - val_loss: 25.0837 - val_accuracy: 0.4434\n",
      "Epoch 16/20\n",
      "55/55 [==============================] - 0s 5ms/step - loss: 0.6468 - accuracy: 0.1271 - val_loss: 60.9015 - val_accuracy: 0.0647\n",
      "Epoch 17/20\n",
      "55/55 [==============================] - 0s 5ms/step - loss: 0.6497 - accuracy: 0.1248 - val_loss: 41.2643 - val_accuracy: 0.2125\n",
      "Epoch 18/20\n",
      "55/55 [==============================] - 0s 5ms/step - loss: 0.6495 - accuracy: 0.1456 - val_loss: 20.1545 - val_accuracy: 0.2125\n",
      "Epoch 19/20\n",
      "55/55 [==============================] - 0s 5ms/step - loss: 0.6455 - accuracy: 0.1456 - val_loss: 37.1645 - val_accuracy: 0.3626\n",
      "Epoch 20/20\n",
      "55/55 [==============================] - 0s 5ms/step - loss: 0.6471 - accuracy: 0.1687 - val_loss: 31.6029 - val_accuracy: 0.2564\n",
      "Model: \"sequential_6\"\n",
      "_________________________________________________________________\n",
      " Layer (type)                Output Shape              Param #   \n",
      "=================================================================\n",
      " flatten_5 (Flatten)         (None, None)              0         \n",
      "                                                                 \n",
      " dense_14 (Dense)            (None, 200)               157000    \n",
      "                                                                 \n",
      " dense_15 (Dense)            (None, 100)               20100     \n",
      "                                                                 \n",
      " dense_16 (Dense)            (None, 50)                5050      \n",
      "                                                                 \n",
      " dense_17 (Dense)            (None, 2)                 102       \n",
      "                                                                 \n",
      "=================================================================\n",
      "Total params: 182,252\n",
      "Trainable params: 182,252\n",
      "Non-trainable params: 0\n",
      "_________________________________________________________________\n"
     ]
    }
   ],
   "source": [
    "model.compile(optimizer='adam',\n",
    "              loss=tf.keras.losses.SparseCategoricalCrossentropy(from_logits=False),\n",
    "             metrics=['accuracy'])\n",
    "\n",
    "checkpoint_save_path = \"./checkpoint/catVSdog.ckpt\"\n",
    "\n",
    "cp_callback = tf.keras.callbacks.ModelCheckpoint(filepath=checkpoint_save_path,\n",
    "                                                save_weights_only=True,\n",
    "                                                save_best_only=True)\n",
    "\n",
    "model.fit(img_gen.flow(x_train.reshape(1731,28,28,1),y_train),batch_size=64,epochs=20,\n",
    "          validation_data=(x_test,y_test),\n",
    "         callbacks=[cp_callback])\n",
    "\n",
    "model.summary()"
   ]
  },
  {
   "cell_type": "markdown",
   "id": "4e33d60d",
   "metadata": {},
   "source": [
    "### 2"
   ]
  },
  {
   "cell_type": "code",
   "execution_count": 77,
   "id": "b62f200a",
   "metadata": {},
   "outputs": [],
   "source": [
    "from tensorflow.keras.models import Sequential\n",
    "from tensorflow.keras.layers import Conv2D,MaxPooling2D,Flatten,Dropout,Dense\n",
    "import tensorflow as tf"
   ]
  },
  {
   "cell_type": "code",
   "execution_count": 78,
   "id": "5d4ae059",
   "metadata": {},
   "outputs": [],
   "source": [
    "model = Sequential()\n",
    "model.add(Conv2D(32,kernel_size=(3,3),input_shape=(28,28,1),activation='relu'))\n",
    "model.add(MaxPooling2D(pool_size=2))\n",
    "model.add(Conv2D(64,kernel_size=(3,3),activation='relu'))\n",
    "model.add(MaxPooling2D(pool_size=2))\n",
    "model.add(Dropout(0.2))\n",
    "model.add(Flatten())\n",
    "model.add(Dense(128, activation='relu'))\n",
    "model.add(Dropout(0.2))\n",
    "model.add(Dense(1, activation='sigmoid'))\n"
   ]
  },
  {
   "cell_type": "code",
   "execution_count": 79,
   "id": "06dbbfc9",
   "metadata": {},
   "outputs": [
    {
     "name": "stdout",
     "output_type": "stream",
     "text": [
      "Model: \"sequential_7\"\n",
      "_________________________________________________________________\n",
      " Layer (type)                Output Shape              Param #   \n",
      "=================================================================\n",
      " conv2d_6 (Conv2D)           (None, 26, 26, 32)        320       \n",
      "                                                                 \n",
      " max_pooling2d_6 (MaxPooling  (None, 13, 13, 32)       0         \n",
      " 2D)                                                             \n",
      "                                                                 \n",
      " conv2d_7 (Conv2D)           (None, 11, 11, 64)        18496     \n",
      "                                                                 \n",
      " max_pooling2d_7 (MaxPooling  (None, 5, 5, 64)         0         \n",
      " 2D)                                                             \n",
      "                                                                 \n",
      " dropout_6 (Dropout)         (None, 5, 5, 64)          0         \n",
      "                                                                 \n",
      " flatten_6 (Flatten)         (None, 1600)              0         \n",
      "                                                                 \n",
      " dense_18 (Dense)            (None, 128)               204928    \n",
      "                                                                 \n",
      " dropout_7 (Dropout)         (None, 128)               0         \n",
      "                                                                 \n",
      " dense_19 (Dense)            (None, 1)                 129       \n",
      "                                                                 \n",
      "=================================================================\n",
      "Total params: 223,873\n",
      "Trainable params: 223,873\n",
      "Non-trainable params: 0\n",
      "_________________________________________________________________\n"
     ]
    }
   ],
   "source": [
    "model.compile(optimizer='adam', #优化器Adam\n",
    "              loss='binary_crossentropy', #损失函数：交叉熵损失\n",
    "              metrics=['accuracy']) #准确率：accuracy:y_/y均为数值；categorical_accuracy:y_/y都是独热码；sparse_categorical_accuracy:y_/y是数值+独热码\n",
    "model.summary()\n"
   ]
  },
  {
   "cell_type": "code",
   "execution_count": 80,
   "id": "6f080e8d",
   "metadata": {},
   "outputs": [],
   "source": [
    "checkpoint_save_path = \"./checkpoint/catVSdog.ckpt\"\n",
    "cp_callback = tf.keras.callbacks.ModelCheckpoint( #保存模型cp_callback\n",
    "    filepath=checkpoint_save_path,\n",
    "    save_weights_only=True, #只保存weight\n",
    "    save_best_only=True #只保存最好的一次\n",
    ")\n"
   ]
  },
  {
   "cell_type": "code",
   "execution_count": 84,
   "id": "5b12d4c7",
   "metadata": {},
   "outputs": [
    {
     "name": "stdout",
     "output_type": "stream",
     "text": [
      "Epoch 1/20\n",
      "55/55 [==============================] - 1s 12ms/step - loss: 0.2522 - accuracy: 0.9024 - val_loss: 102.1904 - val_accuracy: 0.6582\n",
      "Epoch 2/20\n",
      "55/55 [==============================] - 0s 7ms/step - loss: 0.2296 - accuracy: 0.9001 - val_loss: 124.7534 - val_accuracy: 0.6097\n",
      "Epoch 3/20\n",
      "55/55 [==============================] - 0s 5ms/step - loss: 0.2207 - accuracy: 0.9145 - val_loss: 119.9347 - val_accuracy: 0.6120\n",
      "Epoch 4/20\n",
      "55/55 [==============================] - 0s 5ms/step - loss: 0.2501 - accuracy: 0.8966 - val_loss: 106.5319 - val_accuracy: 0.6397\n",
      "Epoch 5/20\n",
      "55/55 [==============================] - 0s 5ms/step - loss: 0.2071 - accuracy: 0.9139 - val_loss: 111.3136 - val_accuracy: 0.6259\n",
      "Epoch 6/20\n",
      "55/55 [==============================] - 0s 5ms/step - loss: 0.2031 - accuracy: 0.9197 - val_loss: 143.7333 - val_accuracy: 0.6097\n",
      "Epoch 7/20\n",
      "55/55 [==============================] - 0s 5ms/step - loss: 0.2089 - accuracy: 0.9151 - val_loss: 122.9547 - val_accuracy: 0.6189\n",
      "Epoch 8/20\n",
      "55/55 [==============================] - 0s 6ms/step - loss: 0.2413 - accuracy: 0.9035 - val_loss: 96.6814 - val_accuracy: 0.6513\n",
      "Epoch 9/20\n",
      "55/55 [==============================] - 0s 6ms/step - loss: 0.2190 - accuracy: 0.9105 - val_loss: 146.4210 - val_accuracy: 0.5958\n",
      "Epoch 10/20\n",
      "55/55 [==============================] - 0s 5ms/step - loss: 0.2215 - accuracy: 0.9174 - val_loss: 122.7621 - val_accuracy: 0.5982\n",
      "Epoch 11/20\n",
      "55/55 [==============================] - 0s 5ms/step - loss: 0.2166 - accuracy: 0.9157 - val_loss: 123.4823 - val_accuracy: 0.6328\n",
      "Epoch 12/20\n",
      "55/55 [==============================] - 0s 5ms/step - loss: 0.2009 - accuracy: 0.9145 - val_loss: 127.1017 - val_accuracy: 0.6212\n",
      "Epoch 13/20\n",
      "55/55 [==============================] - 0s 5ms/step - loss: 0.2186 - accuracy: 0.9197 - val_loss: 133.8693 - val_accuracy: 0.6374\n",
      "Epoch 14/20\n",
      "55/55 [==============================] - 0s 5ms/step - loss: 0.1953 - accuracy: 0.9261 - val_loss: 127.0764 - val_accuracy: 0.6674\n",
      "Epoch 15/20\n",
      "55/55 [==============================] - 0s 6ms/step - loss: 0.1904 - accuracy: 0.9209 - val_loss: 126.2047 - val_accuracy: 0.6490\n",
      "Epoch 16/20\n",
      "55/55 [==============================] - 0s 7ms/step - loss: 0.1773 - accuracy: 0.9341 - val_loss: 136.3278 - val_accuracy: 0.6467\n",
      "Epoch 17/20\n",
      "55/55 [==============================] - 0s 5ms/step - loss: 0.2003 - accuracy: 0.9249 - val_loss: 128.5715 - val_accuracy: 0.6467\n",
      "Epoch 18/20\n",
      "55/55 [==============================] - 0s 6ms/step - loss: 0.2114 - accuracy: 0.9185 - val_loss: 113.6300 - val_accuracy: 0.6605\n",
      "Epoch 19/20\n",
      "55/55 [==============================] - 0s 5ms/step - loss: 0.2032 - accuracy: 0.9261 - val_loss: 124.6377 - val_accuracy: 0.6305\n",
      "Epoch 20/20\n",
      "55/55 [==============================] - 0s 5ms/step - loss: 0.1816 - accuracy: 0.9243 - val_loss: 117.5127 - val_accuracy: 0.6259\n"
     ]
    }
   ],
   "source": [
    "history = model.fit(img_gen.flow(x_train.reshape(1731,28,28,1),y_train),\n",
    "                 epochs=20,\n",
    "                 batch_size=128,\n",
    "                 validation_data=(x_test,y_test),\n",
    "                 validation_freq=1,\n",
    "                 callbacks=[cp_callback],\n",
    "                 verbose=1)\n"
   ]
  },
  {
   "cell_type": "code",
   "execution_count": null,
   "id": "0816fbbc",
   "metadata": {},
   "outputs": [],
   "source": []
  },
  {
   "cell_type": "code",
   "execution_count": null,
   "id": "85c106de",
   "metadata": {},
   "outputs": [],
   "source": []
  }
 ],
 "metadata": {
  "kernelspec": {
   "display_name": "Python 3 (ipykernel)",
   "language": "python",
   "name": "python3"
  },
  "language_info": {
   "codemirror_mode": {
    "name": "ipython",
    "version": 3
   },
   "file_extension": ".py",
   "mimetype": "text/x-python",
   "name": "python",
   "nbconvert_exporter": "python",
   "pygments_lexer": "ipython3",
   "version": "3.9.13"
  }
 },
 "nbformat": 4,
 "nbformat_minor": 5
}
