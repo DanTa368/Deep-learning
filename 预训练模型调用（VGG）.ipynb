{
 "cells": [
  {
   "cell_type": "code",
   "execution_count": 8,
   "id": "e26a606b",
   "metadata": {},
   "outputs": [
    {
     "data": {
      "text/plain": [
       "(50000, 32, 32, 3)"
      ]
     },
     "execution_count": 8,
     "metadata": {},
     "output_type": "execute_result"
    }
   ],
   "source": [
    "import tensorflow as tf\n",
    "from tensorflow.keras import Model\n",
    "from tensorflow.keras.layers import Input,Dense\n",
    "from tensorflow.keras.applications.vgg16 import VGG16\n",
    "\n",
    "\n",
    "(x_train,y_train),(x_test,y_test)=tf.keras.datasets.cifar10.load_data()\n",
    "x_train = x_train/255.\n",
    "x_test = x_test/255.\n",
    "x_train.shape"
   ]
  },
  {
   "cell_type": "code",
   "execution_count": 14,
   "id": "91bf71f6",
   "metadata": {},
   "outputs": [],
   "source": [
    "#vgg预训练模型\n",
    "\n",
    "#输入层\n",
    "model_input=Input(shape=(32,32,3))\n",
    "#隐藏层\n",
    "vgg=VGG16(weights='imagenet',include_top=False,pooling='avg')#进行训练得到权重文件的数据集，是否包括vgg16模型的输出层，模型中池化的方式\n",
    "#输出层\n",
    "out=Dense(10,activation='softmax')\n",
    "\n",
    "vgg_out=vgg(model_input)\n",
    "y=out(vgg_out)\n",
    "model = Model(inputs=model_input,outputs=y)\n",
    "\n"
   ]
  },
  {
   "cell_type": "code",
   "execution_count": 15,
   "id": "ea53357d",
   "metadata": {},
   "outputs": [],
   "source": [
    "model.compile(optimizer='adam',\n",
    "               loss=tf.keras.losses.SparseCategoricalCrossentropy(from_logits=False),\n",
    "              metrics=['accuracy'])"
   ]
  },
  {
   "cell_type": "code",
   "execution_count": 17,
   "id": "e9b98d63",
   "metadata": {},
   "outputs": [
    {
     "name": "stdout",
     "output_type": "stream",
     "text": [
      "Epoch 1/5\n",
      "1563/1563 [==============================] - 34s 22ms/step - loss: 0.2643 - accuracy: 0.9163 - val_loss: 0.8820 - val_accuracy: 0.7810\n",
      "Epoch 2/5\n",
      "1563/1563 [==============================] - 34s 22ms/step - loss: 0.3576 - accuracy: 0.8880 - val_loss: 0.8068 - val_accuracy: 0.7901\n",
      "Epoch 3/5\n",
      "1563/1563 [==============================] - 34s 22ms/step - loss: 0.2234 - accuracy: 0.9287 - val_loss: 0.8633 - val_accuracy: 0.7929\n",
      "Epoch 4/5\n",
      "1563/1563 [==============================] - 34s 22ms/step - loss: 0.2155 - accuracy: 0.9316 - val_loss: 0.9804 - val_accuracy: 0.7844\n",
      "Epoch 5/5\n",
      "1563/1563 [==============================] - 34s 22ms/step - loss: 0.2857 - accuracy: 0.9112 - val_loss: 0.8885 - val_accuracy: 0.7864\n"
     ]
    },
    {
     "data": {
      "text/plain": [
       "<keras.callbacks.History at 0x1583d12ed90>"
      ]
     },
     "execution_count": 17,
     "metadata": {},
     "output_type": "execute_result"
    }
   ],
   "source": [
    "model.fit(x_train,y_train,\n",
    "           batch_size=32,\n",
    "           validation_data=(x_test,y_test),\n",
    "           validation_freq=1,\n",
    "           epochs=5)"
   ]
  },
  {
   "cell_type": "code",
   "execution_count": 18,
   "id": "1b528d4d",
   "metadata": {},
   "outputs": [
    {
     "name": "stdout",
     "output_type": "stream",
     "text": [
      "Model: \"model\"\n",
      "_________________________________________________________________\n",
      " Layer (type)                Output Shape              Param #   \n",
      "=================================================================\n",
      " input_7 (InputLayer)        [(None, 32, 32, 3)]       0         \n",
      "                                                                 \n",
      " vgg16 (Functional)          (None, 512)               14714688  \n",
      "                                                                 \n",
      " dense_3 (Dense)             (None, 10)                5130      \n",
      "                                                                 \n",
      "=================================================================\n",
      "Total params: 14,719,818\n",
      "Trainable params: 14,719,818\n",
      "Non-trainable params: 0\n",
      "_________________________________________________________________\n"
     ]
    }
   ],
   "source": [
    "model.summary()"
   ]
  },
  {
   "cell_type": "code",
   "execution_count": 9,
   "id": "0870fb60",
   "metadata": {},
   "outputs": [],
   "source": [
    "import cv2\n",
    "import numpy as np"
   ]
  },
  {
   "cell_type": "code",
   "execution_count": 10,
   "id": "10a30b08",
   "metadata": {},
   "outputs": [],
   "source": [
    "x_train = []\n",
    "y_train = []\n",
    "with open('./flower/train_shuffle.txt','r') as f:\n",
    "    for i in f.readlines():\n",
    "        i = i.strip('\\n')\n",
    "        img_name = i.split(\" \")[0]\n",
    "        img_lable = int(i.split(\" \")[-1])\n",
    "        img_path = \"./flower/train/\" + img_name\n",
    "        img = cv2.imread(img_path)\n",
    "        img = cv2.resize(img,(32,32))\n",
    "        x_train.append(img)\n",
    "        y_train.append([img_lable])\n",
    "    "
   ]
  },
  {
   "cell_type": "code",
   "execution_count": 18,
   "id": "f82946d7",
   "metadata": {},
   "outputs": [
    {
     "data": {
      "text/plain": [
       "(3476, 32, 32, 3)"
      ]
     },
     "execution_count": 18,
     "metadata": {},
     "output_type": "execute_result"
    }
   ],
   "source": [
    "x_train = np.array(x_train)\n",
    "y_train = np.array(y_train)\n",
    "x_train.shape"
   ]
  },
  {
   "cell_type": "code",
   "execution_count": 12,
   "id": "b20d723e",
   "metadata": {},
   "outputs": [],
   "source": [
    "x_test = []\n",
    "y_test = []\n",
    "with open('./flower/test_shuffle.txt','r') as f:\n",
    "    for i in f.readlines():\n",
    "        i = i.strip('\\n')\n",
    "        img_name = i.split(\" \")[0]\n",
    "        img_lable = int(i.split(\" \")[-1])\n",
    "        img_path = \"./flower/test/\" + img_name\n",
    "        img = cv2.imread(img_path)\n",
    "        img = cv2.resize(img,(32,32))\n",
    "        x_test.append(img)\n",
    "        y_test.append([img_lable])"
   ]
  },
  {
   "cell_type": "code",
   "execution_count": 19,
   "id": "f9447b6f",
   "metadata": {},
   "outputs": [
    {
     "data": {
      "text/plain": [
       "(847, 32, 32, 3)"
      ]
     },
     "execution_count": 19,
     "metadata": {},
     "output_type": "execute_result"
    }
   ],
   "source": [
    "x_test = np.array(x_test)\n",
    "y_test = np.array(y_test)\n",
    "x_test.shape"
   ]
  },
  {
   "cell_type": "code",
   "execution_count": 14,
   "id": "f3bdb7df",
   "metadata": {},
   "outputs": [],
   "source": [
    "x_train = x_train/255.\n",
    "x_test = x_test/255.\n",
    "x_train = x_train*2-1\n",
    "x_test = x_test*2-1"
   ]
  },
  {
   "cell_type": "code",
   "execution_count": 15,
   "id": "66ea1740",
   "metadata": {},
   "outputs": [],
   "source": [
    "#vgg预训练模型\n",
    "\n",
    "#输入层\n",
    "model_input=Input(shape=(32,32,3))\n",
    "#隐藏层\n",
    "vgg=VGG16(weights='imagenet',include_top=False,pooling='avg')#进行训练得到权重文件的数据集，是否包括vgg16模型的输出层，模型中池化的方式\n",
    "#输出层\n",
    "out=Dense(5,activation='softmax')\n",
    "\n",
    "vgg_out=vgg(model_input)\n",
    "y=out(vgg_out)\n",
    "model = Model(inputs=model_input,outputs=y)"
   ]
  },
  {
   "cell_type": "code",
   "execution_count": 16,
   "id": "e4697c48",
   "metadata": {},
   "outputs": [],
   "source": [
    "model.compile(optimizer='adam',\n",
    "               loss=tf.keras.losses.SparseCategoricalCrossentropy(from_logits=False),\n",
    "              metrics=['accuracy'])"
   ]
  },
  {
   "cell_type": "code",
   "execution_count": 20,
   "id": "f5ba5d06",
   "metadata": {},
   "outputs": [
    {
     "name": "stdout",
     "output_type": "stream",
     "text": [
      "Epoch 1/10\n",
      "109/109 [==============================] - 2s 22ms/step - loss: 0.3259 - accuracy: 0.8861 - val_loss: 1.2768 - val_accuracy: 0.6741\n",
      "Epoch 2/10\n",
      "109/109 [==============================] - 2s 22ms/step - loss: 0.2627 - accuracy: 0.9157 - val_loss: 1.5565 - val_accuracy: 0.6364\n",
      "Epoch 3/10\n",
      "109/109 [==============================] - 2s 22ms/step - loss: 0.2607 - accuracy: 0.9160 - val_loss: 1.5547 - val_accuracy: 0.6576\n",
      "Epoch 4/10\n",
      "109/109 [==============================] - 2s 22ms/step - loss: 0.2147 - accuracy: 0.9333 - val_loss: 1.7575 - val_accuracy: 0.6505\n",
      "Epoch 5/10\n",
      "109/109 [==============================] - 2s 22ms/step - loss: 0.2765 - accuracy: 0.9125 - val_loss: 1.5043 - val_accuracy: 0.6482\n",
      "Epoch 6/10\n",
      "109/109 [==============================] - 2s 22ms/step - loss: 0.2182 - accuracy: 0.9278 - val_loss: 1.6658 - val_accuracy: 0.5962\n",
      "Epoch 7/10\n",
      "109/109 [==============================] - 2s 22ms/step - loss: 0.2226 - accuracy: 0.9307 - val_loss: 1.7343 - val_accuracy: 0.6340\n",
      "Epoch 8/10\n",
      "109/109 [==============================] - 2s 22ms/step - loss: 0.1824 - accuracy: 0.9448 - val_loss: 1.6020 - val_accuracy: 0.6753\n",
      "Epoch 9/10\n",
      "109/109 [==============================] - 2s 22ms/step - loss: 0.1527 - accuracy: 0.9551 - val_loss: 1.8872 - val_accuracy: 0.6470\n",
      "Epoch 10/10\n",
      "109/109 [==============================] - 2s 22ms/step - loss: 0.2000 - accuracy: 0.9393 - val_loss: 1.6013 - val_accuracy: 0.6399\n"
     ]
    }
   ],
   "source": [
    "history = model.fit(x_train,y_train,\n",
    "           batch_size=32,\n",
    "           validation_data=(x_test,y_test),\n",
    "           validation_freq=1,\n",
    "           epochs=10)"
   ]
  },
  {
   "cell_type": "code",
   "execution_count": 21,
   "id": "754e1914",
   "metadata": {},
   "outputs": [
    {
     "name": "stdout",
     "output_type": "stream",
     "text": [
      "Model: \"model\"\n",
      "_________________________________________________________________\n",
      " Layer (type)                Output Shape              Param #   \n",
      "=================================================================\n",
      " input_1 (InputLayer)        [(None, 32, 32, 3)]       0         \n",
      "                                                                 \n",
      " vgg16 (Functional)          (None, 512)               14714688  \n",
      "                                                                 \n",
      " dense (Dense)               (None, 5)                 2565      \n",
      "                                                                 \n",
      "=================================================================\n",
      "Total params: 14,717,253\n",
      "Trainable params: 14,717,253\n",
      "Non-trainable params: 0\n",
      "_________________________________________________________________\n"
     ]
    }
   ],
   "source": [
    "model.summary()"
   ]
  },
  {
   "cell_type": "code",
   "execution_count": 22,
   "id": "e2b3baa3",
   "metadata": {},
   "outputs": [
    {
     "name": "stdout",
     "output_type": "stream",
     "text": [
      "27/27 [==============================] - 0s 7ms/step - loss: 1.6013 - accuracy: 0.6399\n",
      "test-loss===> 1.6012585163116455\n",
      "test-acc===> 0.639905571937561\n"
     ]
    }
   ],
   "source": [
    "test_loss,test_acc = model.evaluate(x_test,y_test)\n",
    "print('test-loss===>',test_loss)\n",
    "print('test-acc===>',test_acc)"
   ]
  },
  {
   "cell_type": "code",
   "execution_count": 23,
   "id": "0d68d7a5",
   "metadata": {},
   "outputs": [
    {
     "name": "stdout",
     "output_type": "stream",
     "text": [
      "109/109 [==============================] - 1s 6ms/step - loss: 0.1281 - accuracy: 0.9591\n",
      "train-loss===> 0.1281321942806244\n",
      "train-acc===> 0.9591484665870667\n"
     ]
    }
   ],
   "source": [
    "train_loss,train_acc = model.evaluate(x_train,y_train)\n",
    "print('train-loss===>',train_loss)\n",
    "print('train-acc===>',train_acc)"
   ]
  },
  {
   "cell_type": "code",
   "execution_count": 24,
   "id": "c8b5418d",
   "metadata": {},
   "outputs": [],
   "source": [
    "loss = history.history['loss']\n",
    "accuracy = history.history['accuracy']\n",
    "val_loss = history.history['val_loss']\n",
    "val_accuracy = history.history['val_accuracy']"
   ]
  },
  {
   "cell_type": "code",
   "execution_count": 25,
   "id": "85ae53e8",
   "metadata": {},
   "outputs": [
    {
     "data": {
      "image/png": "[encoded data removed]",
      "text/plain": [
       "<Figure size 640x480 with 2 Axes>"
      ]
     },
     "metadata": {},
     "output_type": "display_data"
    }
   ],
   "source": [
    "import matplotlib.pyplot as plt\n",
    "\n",
    "plt.subplot(1,2,1)\n",
    "plt.plot(loss)\n",
    "plt.plot(val_loss)\n",
    "plt.title(\"loss in train and val\")\n",
    "\n",
    "plt.subplot(1,2,2)\n",
    "plt.plot(accuracy)\n",
    "plt.plot(val_accuracy)\n",
    "plt.title(\"accuracy in train and val\")\n",
    "\n",
    "plt.show()"
   ]
  },
  {
   "cell_type": "code",
   "execution_count": null,
   "id": "f0bb7c64",
   "metadata": {},
   "outputs": [],
   "source": []
  }
 ],
 "metadata": {
  "kernelspec": {
   "display_name": "Python 3 (ipykernel)",
   "language": "python",
   "name": "python3"
  },
  "language_info": {
   "codemirror_mode": {
    "name": "ipython",
    "version": 3
   },
   "file_extension": ".py",
   "mimetype": "text/x-python",
   "name": "python",
   "nbconvert_exporter": "python",
   "pygments_lexer": "ipython3",
   "version": "3.9.13"
  }
 },
 "nbformat": 4,
 "nbformat_minor": 5
}
