{
 "cells": [
  {
   "cell_type": "code",
   "execution_count": 8,
   "id": "ac2e13fa",
   "metadata": {},
   "outputs": [
    {
     "data": {
      "text/plain": [
       "(50000, 32, 32, 3)"
      ]
     },
     "execution_count": 8,
     "metadata": {},
     "output_type": "execute_result"
    }
   ],
   "source": [
    "import tensorflow as tf\n",
    "from tensorflow.keras import Model\n",
    "from tensorflow.keras.layers import Input,Dense\n",
    "from tensorflow.keras.applications.vgg16 import VGG16\n",
    "\n",
    "\n",
    "(x_train,y_train),(x_test,y_test)=tf.keras.datasets.cifar10.load_data()\n",
    "x_train = x_train/255.\n",
    "x_test = x_test/255.\n",
    "x_train.shape"
   ]
  },
  {
   "cell_type": "code",
   "execution_count": 14,
   "id": "ffcaccac",
   "metadata": {},
   "outputs": [],
   "source": [
    "#vgg预训练模型\n",
    "\n",
    "#输入层\n",
    "model_input=Input(shape=(32,32,3))\n",
    "#隐藏层\n",
    "vgg=VGG16(weights='imagenet',include_top=False,pooling='avg')#进行训练得到权重文件的数据集，是否包括vgg16模型的输出层，模型中池化的方式\n",
    "#输出层\n",
    "out=Dense(10,activation='softmax')\n",
    "\n",
    "vgg_out=vgg(model_input)\n",
    "y=out(vgg_out)\n",
    "model = Model(inputs=model_input,outputs=y)\n",
    "\n"
   ]
  },
  {
   "cell_type": "code",
   "execution_count": 15,
   "id": "474ca732",
   "metadata": {},
   "outputs": [],
   "source": [
    "model.compile(optimizer='adam',\n",
    "               loss=tf.keras.losses.SparseCategoricalCrossentropy(from_logits=False),\n",
    "              metrics=['accuracy'])"
   ]
  },
  {
   "cell_type": "code",
   "execution_count": 17,
   "id": "3e024228",
   "metadata": {},
   "outputs": [
    {
     "name": "stdout",
     "output_type": "stream",
     "text": [
      "Epoch 1/5\n",
      "1563/1563 [==============================] - 34s 22ms/step - loss: 0.2643 - accuracy: 0.9163 - val_loss: 0.8820 - val_accuracy: 0.7810\n",
      "Epoch 2/5\n",
      "1563/1563 [==============================] - 34s 22ms/step - loss: 0.3576 - accuracy: 0.8880 - val_loss: 0.8068 - val_accuracy: 0.7901\n",
      "Epoch 3/5\n",
      "1563/1563 [==============================] - 34s 22ms/step - loss: 0.2234 - accuracy: 0.9287 - val_loss: 0.8633 - val_accuracy: 0.7929\n",
      "Epoch 4/5\n",
      "1563/1563 [==============================] - 34s 22ms/step - loss: 0.2155 - accuracy: 0.9316 - val_loss: 0.9804 - val_accuracy: 0.7844\n",
      "Epoch 5/5\n",
      "1563/1563 [==============================] - 34s 22ms/step - loss: 0.2857 - accuracy: 0.9112 - val_loss: 0.8885 - val_accuracy: 0.7864\n"
     ]
    },
    {
     "data": {
      "text/plain": [
       "<keras.callbacks.History at 0x1583d12ed90>"
      ]
     },
     "execution_count": 17,
     "metadata": {},
     "output_type": "execute_result"
    }
   ],
   "source": [
    "model.fit(x_train,y_train,\n",
    "           batch_size=32,\n",
    "           validation_data=(x_test,y_test),\n",
    "           validation_freq=1,\n",
    "           epochs=5)"
   ]
  },
  {
   "cell_type": "code",
   "execution_count": 18,
   "id": "be14e0eb",
   "metadata": {},
   "outputs": [
    {
     "name": "stdout",
     "output_type": "stream",
     "text": [
      "Model: \"model\"\n",
      "_________________________________________________________________\n",
      " Layer (type)                Output Shape              Param #   \n",
      "=================================================================\n",
      " input_7 (InputLayer)        [(None, 32, 32, 3)]       0         \n",
      "                                                                 \n",
      " vgg16 (Functional)          (None, 512)               14714688  \n",
      "                                                                 \n",
      " dense_3 (Dense)             (None, 10)                5130      \n",
      "                                                                 \n",
      "=================================================================\n",
      "Total params: 14,719,818\n",
      "Trainable params: 14,719,818\n",
      "Non-trainable params: 0\n",
      "_________________________________________________________________\n"
     ]
    }
   ],
   "source": [
    "model.summary()"
   ]
  },
  {
   "cell_type": "code",
   "execution_count": 42,
   "id": "cb8a7337",
   "metadata": {},
   "outputs": [],
   "source": [
    "import cv2\n",
    "import numpy as np"
   ]
  },
  {
   "cell_type": "code",
   "execution_count": 99,
   "id": "4b7ac1f4",
   "metadata": {},
   "outputs": [],
   "source": [
    "x_train = []\n",
    "y_train = []\n",
    "with open('./flower/train_shuffle.txt','r') as f:\n",
    "    for i in f.readlines():\n",
    "        i = i.strip('\\n')\n",
    "        img_name = i.split(\" \")[0]\n",
    "        img_lable = int(i.split(\" \")[-1])\n",
    "        img_path = \"./flower/train/\" + img_name\n",
    "        img = cv2.imread(img_path)\n",
    "        img = cv2.resize(img,(32,32))\n",
    "        x_train.append(img)\n",
    "        y_train.append([img_lable])\n",
    "    "
   ]
  },
  {
   "cell_type": "code",
   "execution_count": 111,
   "id": "e2c45fed",
   "metadata": {},
   "outputs": [],
   "source": [
    "x_train = np.array(x_train)\n",
    "y_train = np.array(y_train)"
   ]
  },
  {
   "cell_type": "code",
   "execution_count": 101,
   "id": "0b4d9984",
   "metadata": {},
   "outputs": [],
   "source": [
    "x_test = []\n",
    "y_test = []\n",
    "with open('./flower/test_shuffle.txt','r') as f:\n",
    "    for i in f.readlines():\n",
    "        i = i.strip('\\n')\n",
    "        img_name = i.split(\" \")[0]\n",
    "        img_lable = int(i.split(\" \")[-1])\n",
    "        img_path = \"./flower/test/\" + img_name\n",
    "        img = cv2.imread(img_path)\n",
    "        img = cv2.resize(img,(32,32))\n",
    "        x_test.append(img)\n",
    "        y_test.append([img_lable])"
   ]
  },
  {
   "cell_type": "code",
   "execution_count": 102,
   "id": "acd0724b",
   "metadata": {},
   "outputs": [],
   "source": [
    "x_test = np.array(x_test)\n",
    "y_test = np.array(y_test)"
   ]
  },
  {
   "cell_type": "code",
   "execution_count": 113,
   "id": "2c227ce6",
   "metadata": {},
   "outputs": [],
   "source": [
    "x_train = x_train/255.\n",
    "x_test = x_test/255.\n",
    "x_train = x_train*2-1\n",
    "x_test = x_test*2-1"
   ]
  },
  {
   "cell_type": "code",
   "execution_count": 114,
   "id": "92c3e908",
   "metadata": {},
   "outputs": [],
   "source": [
    "#vgg预训练模型\n",
    "\n",
    "#输入层\n",
    "model_input=Input(shape=(32,32,3))\n",
    "#隐藏层\n",
    "vgg=VGG16(weights='imagenet',include_top=False,pooling='avg')#进行训练得到权重文件的数据集，是否包括vgg16模型的输出层，模型中池化的方式\n",
    "#输出层\n",
    "out=Dense(10,activation='softmax')\n",
    "\n",
    "vgg_out=vgg(model_input)\n",
    "y=out(vgg_out)\n",
    "model = Model(inputs=model_input,outputs=y)"
   ]
  },
  {
   "cell_type": "code",
   "execution_count": 115,
   "id": "91b8aa1d",
   "metadata": {},
   "outputs": [],
   "source": [
    "model.compile(optimizer='adam',\n",
    "               loss=tf.keras.losses.SparseCategoricalCrossentropy(from_logits=False),\n",
    "              metrics=['accuracy'])"
   ]
  },
  {
   "cell_type": "code",
   "execution_count": 120,
   "id": "c1524968",
   "metadata": {},
   "outputs": [
    {
     "name": "stdout",
     "output_type": "stream",
     "text": [
      "Epoch 1/5\n",
      "109/109 [==============================] - 3s 23ms/step - loss: 1.6085 - accuracy: 0.2261 - val_loss: 1.6001 - val_accuracy: 0.2444\n",
      "Epoch 2/5\n",
      "109/109 [==============================] - 2s 23ms/step - loss: 1.6092 - accuracy: 0.2336 - val_loss: 1.5993 - val_accuracy: 0.2373\n",
      "Epoch 3/5\n",
      "109/109 [==============================] - 2s 22ms/step - loss: 1.6081 - accuracy: 0.2296 - val_loss: 1.6086 - val_accuracy: 0.2444\n",
      "Epoch 4/5\n",
      "109/109 [==============================] - 2s 22ms/step - loss: 1.6101 - accuracy: 0.2281 - val_loss: 1.6036 - val_accuracy: 0.2444\n",
      "Epoch 5/5\n",
      "109/109 [==============================] - 2s 22ms/step - loss: 1.6043 - accuracy: 0.2394 - val_loss: 1.6064 - val_accuracy: 0.2444\n"
     ]
    }
   ],
   "source": [
    "history = model.fit(x_train,y_train,\n",
    "           batch_size=32,\n",
    "           validation_data=(x_test,y_test),\n",
    "           validation_freq=1,\n",
    "           epochs=5)"
   ]
  },
  {
   "cell_type": "code",
   "execution_count": 121,
   "id": "caa177c9",
   "metadata": {},
   "outputs": [
    {
     "name": "stdout",
     "output_type": "stream",
     "text": [
      "Model: \"model_4\"\n",
      "_________________________________________________________________\n",
      " Layer (type)                Output Shape              Param #   \n",
      "=================================================================\n",
      " input_17 (InputLayer)       [(None, 32, 32, 3)]       0         \n",
      "                                                                 \n",
      " vgg16 (Functional)          (None, 512)               14714688  \n",
      "                                                                 \n",
      " dense_8 (Dense)             (None, 10)                5130      \n",
      "                                                                 \n",
      "=================================================================\n",
      "Total params: 14,719,818\n",
      "Trainable params: 14,719,818\n",
      "Non-trainable params: 0\n",
      "_________________________________________________________________\n"
     ]
    }
   ],
   "source": [
    "model.summary()"
   ]
  },
  {
   "cell_type": "code",
   "execution_count": 122,
   "id": "6921786f",
   "metadata": {},
   "outputs": [
    {
     "name": "stdout",
     "output_type": "stream",
     "text": [
      "27/27 [==============================] - 0s 6ms/step - loss: 1.6064 - accuracy: 0.2444\n",
      "test-loss===> 1.6064014434814453\n",
      "test-acc===> 0.24439197778701782\n"
     ]
    }
   ],
   "source": [
    "test_loss,test_acc = model.evaluate(x_test,y_test)\n",
    "print('test-loss===>',test_loss)\n",
    "print('test-acc===>',test_acc)"
   ]
  },
  {
   "cell_type": "code",
   "execution_count": 123,
   "id": "6969f1b1",
   "metadata": {},
   "outputs": [
    {
     "name": "stdout",
     "output_type": "stream",
     "text": [
      "109/109 [==============================] - 1s 7ms/step - loss: 1.6074 - accuracy: 0.2431\n",
      "train-loss===> 1.6074249744415283\n",
      "train-acc===> 0.2430955171585083\n"
     ]
    }
   ],
   "source": [
    "train_loss,train_acc = model.evaluate(x_train,y_train)\n",
    "print('train-loss===>',train_loss)\n",
    "print('train-acc===>',train_acc)"
   ]
  },
  {
   "cell_type": "code",
   "execution_count": 124,
   "id": "82535ab3",
   "metadata": {},
   "outputs": [],
   "source": [
    "loss = history.history['loss']\n",
    "accuracy = history.history['accuracy']\n",
    "val_loss = history.history['val_loss']\n",
    "val_accuracy = history.history['val_accuracy']"
   ]
  },
  {
   "cell_type": "code",
   "execution_count": 125,
   "id": "bef50753",
   "metadata": {},
   "outputs": [
    {
     "data": {
      "image/png": "[encoded data removed]",
      "text/plain": [
       "<Figure size 640x480 with 2 Axes>"
      ]
     },
     "metadata": {},
     "output_type": "display_data"
    }
   ],
   "source": [
    "import matplotlib.pyplot as plt\n",
    "\n",
    "plt.subplot(1,2,1)\n",
    "plt.plot(loss)\n",
    "plt.plot(val_loss)\n",
    "plt.title(\"loss in train and val\")\n",
    "\n",
    "plt.subplot(1,2,2)\n",
    "plt.plot(accuracy)\n",
    "plt.plot(val_accuracy)\n",
    "plt.title(\"accuracy in train and val\")\n",
    "\n",
    "plt.show()"
   ]
  },
  {
   "cell_type": "code",
   "execution_count": null,
   "id": "eee43851",
   "metadata": {},
   "outputs": [],
   "source": []
  }
 ],
 "metadata": {
  "kernelspec": {
   "display_name": "Python 3 (ipykernel)",
   "language": "python",
   "name": "python3"
  },
  "language_info": {
   "codemirror_mode": {
    "name": "ipython",
    "version": 3
   },
   "file_extension": ".py",
   "mimetype": "text/x-python",
   "name": "python",
   "nbconvert_exporter": "python",
   "pygments_lexer": "ipython3",
   "version": "3.9.13"
  }
 },
 "nbformat": 4,
 "nbformat_minor": 5
}
