{
 "cells": [
  {
   "cell_type": "markdown",
   "id": "561f8b22",
   "metadata": {},
   "source": [
    "### 本地数据读取和处理"
   ]
  },
  {
   "cell_type": "code",
   "execution_count": 1,
   "id": "c38b75b0",
   "metadata": {},
   "outputs": [],
   "source": [
    "import tensorflow as tf\n",
    "from PIL import Image\n",
    "import numpy as np\n",
    "import os"
   ]
  },
  {
   "cell_type": "code",
   "execution_count": 6,
   "id": "1f3f9e04",
   "metadata": {},
   "outputs": [],
   "source": [
    "def read_img(file_path):\n",
    "    file_name = os.listdir(file_path)\n",
    "    x = []\n",
    "    y = []\n",
    "    for i in file_name:\n",
    "        img = Image.open(file_path+i)\n",
    "        img = img.resize((28,28)).convert('L')\n",
    "        img_array = np.array(img)\n",
    "        label = i.split('_')[-1].split('.')[0]\n",
    "        x.append(img_array)\n",
    "        y.append(label)\n",
    "    return x,y"
   ]
  },
  {
   "cell_type": "code",
   "execution_count": 8,
   "id": "78e3ce3d",
   "metadata": {},
   "outputs": [],
   "source": [
    "x,y = read_img(\"./data/mnist_image_label/mnist_test_jpg_10000/\")"
   ]
  },
  {
   "cell_type": "code",
   "execution_count": 12,
   "id": "57dd9ac2",
   "metadata": {},
   "outputs": [
    {
     "data": {
      "text/plain": [
       "(28, 28)"
      ]
     },
     "execution_count": 12,
     "metadata": {},
     "output_type": "execute_result"
    }
   ],
   "source": []
  },
  {
   "cell_type": "code",
   "execution_count": null,
   "id": "48a36538",
   "metadata": {},
   "outputs": [],
   "source": []
  }
 ],
 "metadata": {
  "kernelspec": {
   "display_name": "Python 3 (ipykernel)",
   "language": "python",
   "name": "python3"
  },
  "language_info": {
   "codemirror_mode": {
    "name": "ipython",
    "version": 3
   },
   "file_extension": ".py",
   "mimetype": "text/x-python",
   "name": "python",
   "nbconvert_exporter": "python",
   "pygments_lexer": "ipython3",
   "version": "3.9.13"
  }
 },
 "nbformat": 4,
 "nbformat_minor": 5
}
