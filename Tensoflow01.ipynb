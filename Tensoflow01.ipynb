{
 "cells": [
  {
   "cell_type": "code",
   "execution_count": 1,
   "id": "ef67725a",
   "metadata": {},
   "outputs": [],
   "source": [
    "import tensorflow as tf"
   ]
  },
  {
   "cell_type": "markdown",
   "id": "3e032f03",
   "metadata": {},
   "source": [
    "### 创建张量"
   ]
  },
  {
   "cell_type": "code",
   "execution_count": 2,
   "id": "40f7203f",
   "metadata": {},
   "outputs": [],
   "source": [
    "a = tf.constant([[1,2],[3,4]])"
   ]
  },
  {
   "cell_type": "code",
   "execution_count": 3,
   "id": "118d7ec4",
   "metadata": {},
   "outputs": [
    {
     "data": {
      "text/plain": [
       "<tf.Tensor: shape=(2, 2), dtype=int32, numpy=\n",
       "array([[1, 2],\n",
       "       [3, 4]])>"
      ]
     },
     "execution_count": 3,
     "metadata": {},
     "output_type": "execute_result"
    }
   ],
   "source": [
    "a"
   ]
  },
  {
   "cell_type": "markdown",
   "id": "f8ab62cc",
   "metadata": {},
   "source": [
    "### 转换张量"
   ]
  },
  {
   "cell_type": "code",
   "execution_count": 4,
   "id": "90da9f32",
   "metadata": {},
   "outputs": [],
   "source": [
    "b=tf.convert_to_tensor([1,2.])"
   ]
  },
  {
   "cell_type": "code",
   "execution_count": 5,
   "id": "31f8b489",
   "metadata": {},
   "outputs": [
    {
     "data": {
      "text/plain": [
       "<tf.Tensor: shape=(2,), dtype=float32, numpy=array([1., 2.], dtype=float32)>"
      ]
     },
     "execution_count": 5,
     "metadata": {},
     "output_type": "execute_result"
    }
   ],
   "source": [
    "b"
   ]
  },
  {
   "cell_type": "markdown",
   "id": "ae28edab",
   "metadata": {},
   "source": [
    "### 均匀分布"
   ]
  },
  {
   "cell_type": "code",
   "execution_count": 6,
   "id": "47fd4777",
   "metadata": {},
   "outputs": [
    {
     "data": {
      "text/plain": [
       "<tf.Tensor: shape=(2, 2), dtype=float32, numpy=\n",
       "array([[0.16045296, 0.24595141],\n",
       "       [0.49065626, 0.55717766]], dtype=float32)>"
      ]
     },
     "execution_count": 6,
     "metadata": {},
     "output_type": "execute_result"
    }
   ],
   "source": [
    "tf.random.uniform([2,2],0,1)"
   ]
  },
  {
   "cell_type": "markdown",
   "id": "b813eec0",
   "metadata": {},
   "source": [
    "### 正态分布"
   ]
  },
  {
   "cell_type": "code",
   "execution_count": 7,
   "id": "c9fa3c83",
   "metadata": {},
   "outputs": [
    {
     "data": {
      "text/plain": [
       "<tf.Tensor: shape=(2, 2), dtype=float32, numpy=\n",
       "array([[-0.65366614, -0.68616164],\n",
       "       [-0.92417973,  0.10355356]], dtype=float32)>"
      ]
     },
     "execution_count": 7,
     "metadata": {},
     "output_type": "execute_result"
    }
   ],
   "source": [
    "tf.random.normal([2,2],0,1)"
   ]
  },
  {
   "cell_type": "markdown",
   "id": "cbed4df4",
   "metadata": {},
   "source": [
    "### 索引"
   ]
  },
  {
   "cell_type": "code",
   "execution_count": 8,
   "id": "3663fa62",
   "metadata": {},
   "outputs": [],
   "source": [
    "x = tf.random.normal([4,32,32,3],1,5)"
   ]
  },
  {
   "cell_type": "code",
   "execution_count": 10,
   "id": "3b70dc86",
   "metadata": {},
   "outputs": [
    {
     "data": {
      "text/plain": [
       "TensorShape([32, 32, 3])"
      ]
     },
     "execution_count": 10,
     "metadata": {},
     "output_type": "execute_result"
    }
   ],
   "source": [
    "x[0].shape"
   ]
  },
  {
   "cell_type": "code",
   "execution_count": 11,
   "id": "0ad9ba87",
   "metadata": {},
   "outputs": [
    {
     "data": {
      "text/plain": [
       "TensorShape([32, 3])"
      ]
     },
     "execution_count": 11,
     "metadata": {},
     "output_type": "execute_result"
    }
   ],
   "source": [
    "x[0][1].shape"
   ]
  },
  {
   "cell_type": "code",
   "execution_count": 15,
   "id": "11acd084",
   "metadata": {},
   "outputs": [
    {
     "data": {
      "text/plain": [
       "TensorShape([3])"
      ]
     },
     "execution_count": 15,
     "metadata": {},
     "output_type": "execute_result"
    }
   ],
   "source": [
    "x[0][1][2].shape"
   ]
  },
  {
   "cell_type": "markdown",
   "id": "68607866",
   "metadata": {},
   "source": [
    "### 维度变换"
   ]
  },
  {
   "cell_type": "code",
   "execution_count": 21,
   "id": "da429d80",
   "metadata": {},
   "outputs": [
    {
     "data": {
      "text/plain": [
       "TensorShape([96])"
      ]
     },
     "execution_count": 21,
     "metadata": {},
     "output_type": "execute_result"
    }
   ],
   "source": [
    "e = tf.range(96)\n",
    "e.shape"
   ]
  },
  {
   "cell_type": "code",
   "execution_count": 20,
   "id": "7ed25e18",
   "metadata": {},
   "outputs": [
    {
     "data": {
      "text/plain": [
       "TensorShape([2, 16, 3])"
      ]
     },
     "execution_count": 20,
     "metadata": {},
     "output_type": "execute_result"
    }
   ],
   "source": [
    "x = tf.reshape(e,[2,-1,3])\n",
    "x.shape"
   ]
  },
  {
   "cell_type": "code",
   "execution_count": null,
   "id": "33be062a",
   "metadata": {},
   "outputs": [],
   "source": []
  },
  {
   "cell_type": "code",
   "execution_count": 30,
   "id": "0d332e59",
   "metadata": {},
   "outputs": [
    {
     "data": {
      "text/plain": [
       "TensorShape([16, 32])"
      ]
     },
     "execution_count": 30,
     "metadata": {},
     "output_type": "execute_result"
    }
   ],
   "source": [
    "X = tf.range(512)\n",
    "X = tf.reshape(X,[16,32])\n",
    "X.shape"
   ]
  },
  {
   "cell_type": "code",
   "execution_count": 37,
   "id": "f6d73d7c",
   "metadata": {},
   "outputs": [
    {
     "data": {
      "text/plain": [
       "TensorShape([32, 8])"
      ]
     },
     "execution_count": 37,
     "metadata": {},
     "output_type": "execute_result"
    }
   ],
   "source": [
    "W = tf.ones([32,8],dtype=tf.int32)\n",
    "W.shape"
   ]
  },
  {
   "cell_type": "code",
   "execution_count": 38,
   "id": "17413316",
   "metadata": {},
   "outputs": [
    {
     "data": {
      "text/plain": [
       "TensorShape([8])"
      ]
     },
     "execution_count": 38,
     "metadata": {},
     "output_type": "execute_result"
    }
   ],
   "source": [
    "b = tf.zeros([8],dtype=tf.int32)\n",
    "b.shape"
   ]
  },
  {
   "cell_type": "code",
   "execution_count": 44,
   "id": "d0b137c9",
   "metadata": {},
   "outputs": [
    {
     "data": {
      "text/plain": [
       "<tf.Tensor: shape=(16, 8), dtype=int32, numpy=\n",
       "array([[  496,   496,   496,   496,   496,   496,   496,   496],\n",
       "       [ 1520,  1520,  1520,  1520,  1520,  1520,  1520,  1520],\n",
       "       [ 2544,  2544,  2544,  2544,  2544,  2544,  2544,  2544],\n",
       "       [ 3568,  3568,  3568,  3568,  3568,  3568,  3568,  3568],\n",
       "       [ 4592,  4592,  4592,  4592,  4592,  4592,  4592,  4592],\n",
       "       [ 5616,  5616,  5616,  5616,  5616,  5616,  5616,  5616],\n",
       "       [ 6640,  6640,  6640,  6640,  6640,  6640,  6640,  6640],\n",
       "       [ 7664,  7664,  7664,  7664,  7664,  7664,  7664,  7664],\n",
       "       [ 8688,  8688,  8688,  8688,  8688,  8688,  8688,  8688],\n",
       "       [ 9712,  9712,  9712,  9712,  9712,  9712,  9712,  9712],\n",
       "       [10736, 10736, 10736, 10736, 10736, 10736, 10736, 10736],\n",
       "       [11760, 11760, 11760, 11760, 11760, 11760, 11760, 11760],\n",
       "       [12784, 12784, 12784, 12784, 12784, 12784, 12784, 12784],\n",
       "       [13808, 13808, 13808, 13808, 13808, 13808, 13808, 13808],\n",
       "       [14832, 14832, 14832, 14832, 14832, 14832, 14832, 14832],\n",
       "       [15856, 15856, 15856, 15856, 15856, 15856, 15856, 15856]])>"
      ]
     },
     "execution_count": 44,
     "metadata": {},
     "output_type": "execute_result"
    }
   ],
   "source": [
    "Y = tf.add(tf.matmul(X,W),b)\n",
    "Y"
   ]
  },
  {
   "cell_type": "code",
   "execution_count": null,
   "id": "bf85b0c1",
   "metadata": {},
   "outputs": [],
   "source": []
  },
  {
   "cell_type": "code",
   "execution_count": null,
   "id": "c47ec0e0",
   "metadata": {},
   "outputs": [],
   "source": []
  }
 ],
 "metadata": {
  "kernelspec": {
   "display_name": "Python 3 (ipykernel)",
   "language": "python",
   "name": "python3"
  },
  "language_info": {
   "codemirror_mode": {
    "name": "ipython",
    "version": 3
   },
   "file_extension": ".py",
   "mimetype": "text/x-python",
   "name": "python",
   "nbconvert_exporter": "python",
   "pygments_lexer": "ipython3",
   "version": "3.9.13"
  }
 },
 "nbformat": 4,
 "nbformat_minor": 5
}
