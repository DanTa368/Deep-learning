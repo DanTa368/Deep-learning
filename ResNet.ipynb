{
 "cells": [
  {
   "cell_type": "code",
   "execution_count": 2,
   "id": "bfaed5b6",
   "metadata": {},
   "outputs": [
    {
     "data": {
      "text/plain": [
       "(50000, 32, 32, 3)"
      ]
     },
     "execution_count": 2,
     "metadata": {},
     "output_type": "execute_result"
    }
   ],
   "source": [
    "import tensorflow as tf\n",
    "from tensorflow.keras import Model\n",
    "from tensorflow.keras.layers import Input,Dense\n",
    "from tensorflow.keras.applications.resnet import ResNet50\n",
    "\n",
    "\n",
    "(x_train,y_train),(x_test,y_test)=tf.keras.datasets.cifar10.load_data()\n",
    "x_train = x_train/255.\n",
    "x_test = x_test/255.\n",
    "x_train.shape"
   ]
  },
  {
   "cell_type": "code",
   "execution_count": 3,
   "id": "1e6d6d54",
   "metadata": {},
   "outputs": [
    {
     "name": "stdout",
     "output_type": "stream",
     "text": [
      "Downloading data from https://storage.googleapis.com/tensorflow/keras-applications/resnet/resnet50_weights_tf_dim_ordering_tf_kernels_notop.h5\n",
      "94773248/94765736 [==============================] - 5s 0us/step\n",
      "94781440/94765736 [==============================] - 5s 0us/step\n"
     ]
    }
   ],
   "source": [
    "#resnet预训练模型\n",
    "\n",
    "#输入层\n",
    "model_input=Input(shape=(32,32,3))\n",
    "#隐藏层\n",
    "resNet=ResNet50(weights='imagenet',include_top=False,pooling='avg')#进行训练得到权重文件的数据集，是否包括resNet模型的输出层，模型中池化的方式\n",
    "#输出层\n",
    "out=Dense(10,activation='softmax')\n",
    "\n",
    "resNet_out=resNet(model_input)\n",
    "y=out(resNet_out)\n",
    "model = Model(inputs=model_input,outputs=y)"
   ]
  },
  {
   "cell_type": "code",
   "execution_count": 4,
   "id": "b2c52985",
   "metadata": {},
   "outputs": [],
   "source": [
    "model.compile(optimizer='adam',\n",
    "               loss=tf.keras.losses.SparseCategoricalCrossentropy(from_logits=False),\n",
    "              metrics=['accuracy'])"
   ]
  },
  {
   "cell_type": "code",
   "execution_count": 5,
   "id": "dfdf1b6b",
   "metadata": {},
   "outputs": [
    {
     "name": "stdout",
     "output_type": "stream",
     "text": [
      "Epoch 1/10\n",
      "782/782 [==============================] - 45s 46ms/step - loss: 1.7011 - accuracy: 0.4914 - val_loss: 3.6881 - val_accuracy: 0.1723\n",
      "Epoch 2/10\n",
      "782/782 [==============================] - 35s 45ms/step - loss: 1.3459 - accuracy: 0.5683 - val_loss: 3.9092 - val_accuracy: 0.4591\n",
      "Epoch 3/10\n",
      "782/782 [==============================] - 35s 45ms/step - loss: 1.6332 - accuracy: 0.4986 - val_loss: 2.0052 - val_accuracy: 0.3811\n",
      "Epoch 4/10\n",
      "782/782 [==============================] - 35s 45ms/step - loss: 1.2850 - accuracy: 0.5898 - val_loss: 1.3814 - val_accuracy: 0.5226\n",
      "Epoch 5/10\n",
      "782/782 [==============================] - 35s 45ms/step - loss: 1.0381 - accuracy: 0.6524 - val_loss: 1.2056 - val_accuracy: 0.6005\n",
      "Epoch 6/10\n",
      "782/782 [==============================] - 35s 45ms/step - loss: 0.9091 - accuracy: 0.6949 - val_loss: 2.5631 - val_accuracy: 0.3752\n",
      "Epoch 7/10\n",
      "782/782 [==============================] - 35s 45ms/step - loss: 0.9635 - accuracy: 0.6821 - val_loss: 0.8516 - val_accuracy: 0.7071\n",
      "Epoch 8/10\n",
      "782/782 [==============================] - 35s 44ms/step - loss: 0.8234 - accuracy: 0.7294 - val_loss: 1.9432 - val_accuracy: 0.6041\n",
      "Epoch 9/10\n",
      "782/782 [==============================] - 35s 45ms/step - loss: 0.8368 - accuracy: 0.7274 - val_loss: 0.8564 - val_accuracy: 0.7073\n",
      "Epoch 10/10\n",
      "782/782 [==============================] - 35s 45ms/step - loss: 0.6707 - accuracy: 0.7756 - val_loss: 4.5044 - val_accuracy: 0.1851\n"
     ]
    },
    {
     "data": {
      "text/plain": [
       "<keras.callbacks.History at 0x13ee88bd7f0>"
      ]
     },
     "execution_count": 5,
     "metadata": {},
     "output_type": "execute_result"
    }
   ],
   "source": [
    "model.fit(x_train,y_train,\n",
    "           batch_size=64,\n",
    "           validation_data=(x_test,y_test),\n",
    "           validation_freq=1,\n",
    "           epochs=10)"
   ]
  },
  {
   "cell_type": "code",
   "execution_count": 6,
   "id": "de57cbeb",
   "metadata": {},
   "outputs": [
    {
     "name": "stdout",
     "output_type": "stream",
     "text": [
      "Model: \"model\"\n",
      "_________________________________________________________________\n",
      " Layer (type)                Output Shape              Param #   \n",
      "=================================================================\n",
      " input_1 (InputLayer)        [(None, 32, 32, 3)]       0         \n",
      "                                                                 \n",
      " resnet50 (Functional)       (None, 2048)              23587712  \n",
      "                                                                 \n",
      " dense (Dense)               (None, 10)                20490     \n",
      "                                                                 \n",
      "=================================================================\n",
      "Total params: 23,608,202\n",
      "Trainable params: 23,555,082\n",
      "Non-trainable params: 53,120\n",
      "_________________________________________________________________\n"
     ]
    }
   ],
   "source": [
    "model.summary()"
   ]
  },
  {
   "cell_type": "code",
   "execution_count": null,
   "id": "60c78d92",
   "metadata": {},
   "outputs": [],
   "source": []
  }
 ],
 "metadata": {
  "kernelspec": {
   "display_name": "Python 3 (ipykernel)",
   "language": "python",
   "name": "python3"
  },
  "language_info": {
   "codemirror_mode": {
    "name": "ipython",
    "version": 3
   },
   "file_extension": ".py",
   "mimetype": "text/x-python",
   "name": "python",
   "nbconvert_exporter": "python",
   "pygments_lexer": "ipython3",
   "version": "3.9.13"
  }
 },
 "nbformat": 4,
 "nbformat_minor": 5
}
