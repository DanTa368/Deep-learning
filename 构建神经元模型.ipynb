{
 "cells": [
  {
   "cell_type": "code",
   "execution_count": 6,
   "id": "c93aeb0d",
   "metadata": {},
   "outputs": [],
   "source": [
    "import tensorflow as tf\n",
    "from tensorflow.keras import layers"
   ]
  },
  {
   "cell_type": "code",
   "execution_count": 16,
   "id": "2212ed2d",
   "metadata": {},
   "outputs": [],
   "source": [
    "fc = layers.Dense(2)"
   ]
  },
  {
   "cell_type": "code",
   "execution_count": 17,
   "id": "d4e93b26",
   "metadata": {},
   "outputs": [],
   "source": [
    "X = tf.random.normal([5,784])"
   ]
  },
  {
   "cell_type": "code",
   "execution_count": 18,
   "id": "d22f1ef5",
   "metadata": {},
   "outputs": [],
   "source": [
    "b = fc(X)"
   ]
  },
  {
   "cell_type": "code",
   "execution_count": 19,
   "id": "b78c8bf0",
   "metadata": {},
   "outputs": [
    {
     "data": {
      "text/plain": [
       "TensorShape([5, 2])"
      ]
     },
     "execution_count": 19,
     "metadata": {},
     "output_type": "execute_result"
    }
   ],
   "source": [
    "b.shape"
   ]
  },
  {
   "cell_type": "markdown",
   "id": "a90ee473",
   "metadata": {},
   "source": [
    "### 数据"
   ]
  },
  {
   "cell_type": "code",
   "execution_count": 34,
   "id": "8822eadb",
   "metadata": {},
   "outputs": [],
   "source": [
    "X = tf.constant([1,2,3,4,5,6,7,8,9])\n",
    "Y = tf.constant([2,3,4,5,6,7,8,9,10])\n",
    "X = tf.reshape(X,[-1,1])"
   ]
  },
  {
   "cell_type": "markdown",
   "id": "fba452e6",
   "metadata": {},
   "source": [
    "### 创建模型"
   ]
  },
  {
   "cell_type": "code",
   "execution_count": 50,
   "id": "edae8775",
   "metadata": {},
   "outputs": [],
   "source": [
    "model = tf.keras.Sequential([\n",
    "    layers.Dense(20),\n",
    "    layers.Dense(10),\n",
    "    layers.Dense(1)\n",
    "]\n",
    ")"
   ]
  },
  {
   "cell_type": "markdown",
   "id": "eda95945",
   "metadata": {},
   "source": [
    "### 编译模型"
   ]
  },
  {
   "cell_type": "code",
   "execution_count": 51,
   "id": "c55b1cca",
   "metadata": {},
   "outputs": [],
   "source": [
    "model.compile(optimizer=\"sgd\",loss='mse')"
   ]
  },
  {
   "cell_type": "markdown",
   "id": "f457edd5",
   "metadata": {},
   "source": [
    "### 训练模型"
   ]
  },
  {
   "cell_type": "code",
   "execution_count": 52,
   "id": "9a7a6e48",
   "metadata": {},
   "outputs": [
    {
     "name": "stdout",
     "output_type": "stream",
     "text": [
      "Epoch 1/100\n",
      "1/1 [==============================] - 0s 192ms/step - loss: 53.4778\n",
      "Epoch 2/100\n",
      "1/1 [==============================] - 0s 0s/step - loss: 253.1268\n",
      "Epoch 3/100\n",
      "1/1 [==============================] - 0s 12ms/step - loss: 15548.0938\n",
      "Epoch 4/100\n",
      "1/1 [==============================] - 0s 0s/step - loss: 40459846025216.0000\n",
      "Epoch 5/100\n",
      "1/1 [==============================] - 0s 0s/step - loss: inf\n",
      "Epoch 6/100\n",
      "1/1 [==============================] - 0s 0s/step - loss: nan\n",
      "Epoch 7/100\n",
      "1/1 [==============================] - 0s 19ms/step - loss: nan\n",
      "Epoch 8/100\n",
      "1/1 [==============================] - 0s 0s/step - loss: nan\n",
      "Epoch 9/100\n",
      "1/1 [==============================] - 0s 13ms/step - loss: nan\n",
      "Epoch 10/100\n",
      "1/1 [==============================] - 0s 17ms/step - loss: nan\n",
      "Epoch 11/100\n",
      "1/1 [==============================] - 0s 17ms/step - loss: nan\n",
      "Epoch 12/100\n",
      "1/1 [==============================] - 0s 17ms/step - loss: nan\n",
      "Epoch 13/100\n",
      "1/1 [==============================] - 0s 17ms/step - loss: nan\n",
      "Epoch 14/100\n",
      "1/1 [==============================] - 0s 15ms/step - loss: nan\n",
      "Epoch 15/100\n",
      "1/1 [==============================] - 0s 3ms/step - loss: nan\n",
      "Epoch 16/100\n",
      "1/1 [==============================] - 0s 16ms/step - loss: nan\n",
      "Epoch 17/100\n",
      "1/1 [==============================] - 0s 0s/step - loss: nan\n",
      "Epoch 18/100\n",
      "1/1 [==============================] - 0s 0s/step - loss: nan\n",
      "Epoch 19/100\n",
      "1/1 [==============================] - 0s 17ms/step - loss: nan\n",
      "Epoch 20/100\n",
      "1/1 [==============================] - 0s 17ms/step - loss: nan\n",
      "Epoch 21/100\n",
      "1/1 [==============================] - 0s 0s/step - loss: nan\n",
      "Epoch 22/100\n",
      "1/1 [==============================] - 0s 0s/step - loss: nan\n",
      "Epoch 23/100\n",
      "1/1 [==============================] - 0s 0s/step - loss: nan\n",
      "Epoch 24/100\n",
      "1/1 [==============================] - 0s 19ms/step - loss: nan\n",
      "Epoch 25/100\n",
      "1/1 [==============================] - 0s 14ms/step - loss: nan\n",
      "Epoch 26/100\n",
      "1/1 [==============================] - 0s 0s/step - loss: nan\n",
      "Epoch 27/100\n",
      "1/1 [==============================] - 0s 2ms/step - loss: nan\n",
      "Epoch 28/100\n",
      "1/1 [==============================] - 0s 14ms/step - loss: nan\n",
      "Epoch 29/100\n",
      "1/1 [==============================] - 0s 0s/step - loss: nan\n",
      "Epoch 30/100\n",
      "1/1 [==============================] - 0s 0s/step - loss: nan\n",
      "Epoch 31/100\n",
      "1/1 [==============================] - 0s 17ms/step - loss: nan\n",
      "Epoch 32/100\n",
      "1/1 [==============================] - 0s 0s/step - loss: nan\n",
      "Epoch 33/100\n",
      "1/1 [==============================] - 0s 16ms/step - loss: nan\n",
      "Epoch 34/100\n",
      "1/1 [==============================] - 0s 0s/step - loss: nan\n",
      "Epoch 35/100\n",
      "1/1 [==============================] - 0s 17ms/step - loss: nan\n",
      "Epoch 36/100\n",
      "1/1 [==============================] - 0s 0s/step - loss: nan\n",
      "Epoch 37/100\n",
      "1/1 [==============================] - 0s 20ms/step - loss: nan\n",
      "Epoch 38/100\n",
      "1/1 [==============================] - 0s 3ms/step - loss: nan\n",
      "Epoch 39/100\n",
      "1/1 [==============================] - 0s 7ms/step - loss: nan\n",
      "Epoch 40/100\n",
      "1/1 [==============================] - 0s 0s/step - loss: nan\n",
      "Epoch 41/100\n",
      "1/1 [==============================] - 0s 0s/step - loss: nan\n",
      "Epoch 42/100\n",
      "1/1 [==============================] - 0s 16ms/step - loss: nan\n",
      "Epoch 43/100\n",
      "1/1 [==============================] - 0s 0s/step - loss: nan\n",
      "Epoch 44/100\n",
      "1/1 [==============================] - 0s 17ms/step - loss: nan\n",
      "Epoch 45/100\n",
      "1/1 [==============================] - 0s 0s/step - loss: nan\n",
      "Epoch 46/100\n",
      "1/1 [==============================] - 0s 17ms/step - loss: nan\n",
      "Epoch 47/100\n",
      "1/1 [==============================] - 0s 0s/step - loss: nan\n",
      "Epoch 48/100\n",
      "1/1 [==============================] - 0s 0s/step - loss: nan\n",
      "Epoch 49/100\n",
      "1/1 [==============================] - 0s 0s/step - loss: nan\n",
      "Epoch 50/100\n",
      "1/1 [==============================] - 0s 0s/step - loss: nan\n",
      "Epoch 51/100\n",
      "1/1 [==============================] - 0s 17ms/step - loss: nan\n",
      "Epoch 52/100\n",
      "1/1 [==============================] - 0s 23ms/step - loss: nan\n",
      "Epoch 53/100\n",
      "1/1 [==============================] - 0s 0s/step - loss: nan\n",
      "Epoch 54/100\n",
      "1/1 [==============================] - 0s 0s/step - loss: nan\n",
      "Epoch 55/100\n",
      "1/1 [==============================] - 0s 0s/step - loss: nan\n",
      "Epoch 56/100\n",
      "1/1 [==============================] - 0s 15ms/step - loss: nan\n",
      "Epoch 57/100\n",
      "1/1 [==============================] - 0s 0s/step - loss: nan\n",
      "Epoch 58/100\n",
      "1/1 [==============================] - 0s 0s/step - loss: nan\n",
      "Epoch 59/100\n",
      "1/1 [==============================] - 0s 16ms/step - loss: nan\n",
      "Epoch 60/100\n",
      "1/1 [==============================] - 0s 0s/step - loss: nan\n",
      "Epoch 61/100\n",
      "1/1 [==============================] - 0s 17ms/step - loss: nan\n",
      "Epoch 62/100\n",
      "1/1 [==============================] - 0s 0s/step - loss: nan\n",
      "Epoch 63/100\n",
      "1/1 [==============================] - 0s 0s/step - loss: nan\n",
      "Epoch 64/100\n",
      "1/1 [==============================] - 0s 17ms/step - loss: nan\n",
      "Epoch 65/100\n",
      "1/1 [==============================] - 0s 0s/step - loss: nan\n",
      "Epoch 66/100\n",
      "1/1 [==============================] - 0s 0s/step - loss: nan\n",
      "Epoch 67/100\n",
      "1/1 [==============================] - 0s 17ms/step - loss: nan\n",
      "Epoch 68/100\n",
      "1/1 [==============================] - 0s 0s/step - loss: nan\n",
      "Epoch 69/100\n",
      "1/1 [==============================] - 0s 0s/step - loss: nan\n",
      "Epoch 70/100\n",
      "1/1 [==============================] - 0s 14ms/step - loss: nan\n",
      "Epoch 71/100\n",
      "1/1 [==============================] - 0s 0s/step - loss: nan\n",
      "Epoch 72/100\n",
      "1/1 [==============================] - 0s 0s/step - loss: nan\n",
      "Epoch 73/100\n",
      "1/1 [==============================] - 0s 0s/step - loss: nan\n",
      "Epoch 74/100\n",
      "1/1 [==============================] - 0s 17ms/step - loss: nan\n",
      "Epoch 75/100\n",
      "1/1 [==============================] - 0s 0s/step - loss: nan\n",
      "Epoch 76/100\n",
      "1/1 [==============================] - 0s 0s/step - loss: nan\n",
      "Epoch 77/100\n",
      "1/1 [==============================] - 0s 0s/step - loss: nan\n",
      "Epoch 78/100\n",
      "1/1 [==============================] - 0s 1ms/step - loss: nan\n",
      "Epoch 79/100\n",
      "1/1 [==============================] - 0s 0s/step - loss: nan\n",
      "Epoch 80/100\n",
      "1/1 [==============================] - 0s 0s/step - loss: nan\n",
      "Epoch 81/100\n",
      "1/1 [==============================] - 0s 16ms/step - loss: nan\n",
      "Epoch 82/100\n",
      "1/1 [==============================] - 0s 0s/step - loss: nan\n",
      "Epoch 83/100\n",
      "1/1 [==============================] - 0s 0s/step - loss: nan\n",
      "Epoch 84/100\n",
      "1/1 [==============================] - 0s 17ms/step - loss: nan\n",
      "Epoch 85/100\n",
      "1/1 [==============================] - 0s 0s/step - loss: nan\n",
      "Epoch 86/100\n",
      "1/1 [==============================] - 0s 0s/step - loss: nan\n",
      "Epoch 87/100\n",
      "1/1 [==============================] - 0s 17ms/step - loss: nan\n",
      "Epoch 88/100\n",
      "1/1 [==============================] - 0s 0s/step - loss: nan\n",
      "Epoch 89/100\n",
      "1/1 [==============================] - 0s 0s/step - loss: nan\n",
      "Epoch 90/100\n",
      "1/1 [==============================] - 0s 16ms/step - loss: nan\n",
      "Epoch 91/100\n",
      "1/1 [==============================] - 0s 0s/step - loss: nan\n",
      "Epoch 92/100\n",
      "1/1 [==============================] - 0s 0s/step - loss: nan\n",
      "Epoch 93/100\n",
      "1/1 [==============================] - 0s 0s/step - loss: nan\n",
      "Epoch 94/100\n",
      "1/1 [==============================] - 0s 475us/step - loss: nan\n",
      "Epoch 95/100\n",
      "1/1 [==============================] - 0s 0s/step - loss: nan\n",
      "Epoch 96/100\n",
      "1/1 [==============================] - 0s 0s/step - loss: nan\n",
      "Epoch 97/100\n",
      "1/1 [==============================] - 0s 17ms/step - loss: nan\n",
      "Epoch 98/100\n",
      "1/1 [==============================] - 0s 0s/step - loss: nan\n",
      "Epoch 99/100\n",
      "1/1 [==============================] - 0s 0s/step - loss: nan\n",
      "Epoch 100/100\n",
      "1/1 [==============================] - 0s 16ms/step - loss: nan\n"
     ]
    },
    {
     "data": {
      "text/plain": [
       "<keras.callbacks.History at 0x2191bd4af40>"
      ]
     },
     "execution_count": 52,
     "metadata": {},
     "output_type": "execute_result"
    }
   ],
   "source": [
    "model.fit(X,Y,epochs=100)"
   ]
  },
  {
   "cell_type": "code",
   "execution_count": 53,
   "id": "a7b6beb0",
   "metadata": {},
   "outputs": [
    {
     "data": {
      "text/plain": [
       "array([[nan]], dtype=float32)"
      ]
     },
     "execution_count": 53,
     "metadata": {},
     "output_type": "execute_result"
    }
   ],
   "source": [
    "model.predict(X[3])"
   ]
  },
  {
   "cell_type": "code",
   "execution_count": 54,
   "id": "06a53e5a",
   "metadata": {},
   "outputs": [
    {
     "name": "stdout",
     "output_type": "stream",
     "text": [
      "INFO:tensorflow:Assets written to: ./temp\\assets\n"
     ]
    }
   ],
   "source": [
    "model.save(\"./temp\",True)"
   ]
  },
  {
   "cell_type": "code",
   "execution_count": null,
   "id": "5a281add",
   "metadata": {},
   "outputs": [],
   "source": []
  }
 ],
 "metadata": {
  "kernelspec": {
   "display_name": "Python 3 (ipykernel)",
   "language": "python",
   "name": "python3"
  },
  "language_info": {
   "codemirror_mode": {
    "name": "ipython",
    "version": 3
   },
   "file_extension": ".py",
   "mimetype": "text/x-python",
   "name": "python",
   "nbconvert_exporter": "python",
   "pygments_lexer": "ipython3",
   "version": "3.9.13"
  }
 },
 "nbformat": 4,
 "nbformat_minor": 5
}
