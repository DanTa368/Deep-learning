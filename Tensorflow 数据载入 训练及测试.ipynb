{
 "cells": [
  {
   "cell_type": "code",
   "execution_count": null,
   "id": "f110f104",
   "metadata": {},
   "outputs": [],
   "source": [
    "import cv2\n",
    "from matplotlib import pyplot as plt"
   ]
  },
  {
   "cell_type": "markdown",
   "id": "df80fab3",
   "metadata": {},
   "source": [
    "### 机器学习手写数字集"
   ]
  },
  {
   "cell_type": "code",
   "execution_count": null,
   "id": "db080049",
   "metadata": {},
   "outputs": [],
   "source": [
    "from sklearn import datasets"
   ]
  },
  {
   "cell_type": "code",
   "execution_count": null,
   "id": "86ee48fc",
   "metadata": {},
   "outputs": [],
   "source": [
    "D = datasets.load_digits()"
   ]
  },
  {
   "cell_type": "code",
   "execution_count": null,
   "id": "9a73094c",
   "metadata": {},
   "outputs": [],
   "source": [
    "X = D.data\n",
    "Y = D.target"
   ]
  },
  {
   "cell_type": "markdown",
   "id": "5c19f5b9",
   "metadata": {},
   "source": [
    "### Tensorflow手写数字集"
   ]
  },
  {
   "cell_type": "code",
   "execution_count": null,
   "id": "e04e11eb",
   "metadata": {},
   "outputs": [],
   "source": [
    "from tensorflow.keras import datasets"
   ]
  },
  {
   "cell_type": "code",
   "execution_count": null,
   "id": "b583acb3",
   "metadata": {},
   "outputs": [],
   "source": [
    "(x_train,y_train),(x_test,y_test) = datasets.mnist.load_data()"
   ]
  },
  {
   "cell_type": "code",
   "execution_count": null,
   "id": "c6104e16",
   "metadata": {},
   "outputs": [],
   "source": [
    "x_train.shape"
   ]
  },
  {
   "cell_type": "code",
   "execution_count": null,
   "id": "36d996be",
   "metadata": {},
   "outputs": [],
   "source": [
    "y_train.shape"
   ]
  },
  {
   "cell_type": "code",
   "execution_count": null,
   "id": "df1c7bd5",
   "metadata": {
    "scrolled": true
   },
   "outputs": [],
   "source": [
    "plt.imshow(x_train[3],'gray')\n",
    "plt.axis('off')\n",
    "print(y_train[3])"
   ]
  },
  {
   "cell_type": "code",
   "execution_count": null,
   "id": "5ebedc12",
   "metadata": {},
   "outputs": [],
   "source": [
    "\n",
    "import matplotlib.pyplot as plt\n",
    " \n",
    "\n",
    "fig, axes = plt.subplots(10, 10,figsize=(10,10))\n",
    "for index,ax in enumerate(axes.flat):\n",
    "    ax.imshow(x_train[index],'gray')\n",
    "    ax.axis('off')\n",
    "    ax.text(0,-1,y_train[index],c=\"green\")\n",
    "\n",
    "plt.show()"
   ]
  },
  {
   "cell_type": "markdown",
   "id": "4994598f",
   "metadata": {},
   "source": [
    "### 归一化"
   ]
  },
  {
   "cell_type": "code",
   "execution_count": null,
   "id": "690151ec",
   "metadata": {},
   "outputs": [],
   "source": [
    "x_train_nor = x_train/255.*2-1"
   ]
  },
  {
   "cell_type": "code",
   "execution_count": null,
   "id": "7efc2615",
   "metadata": {},
   "outputs": [],
   "source": [
    "x_train_nor.min()"
   ]
  },
  {
   "cell_type": "code",
   "execution_count": null,
   "id": "8623ed5d",
   "metadata": {},
   "outputs": [],
   "source": [
    "x_train_nor.max()"
   ]
  },
  {
   "cell_type": "markdown",
   "id": "ca475c22",
   "metadata": {},
   "source": [
    "### 波斯顿房价数据集"
   ]
  },
  {
   "cell_type": "code",
   "execution_count": null,
   "id": "fdb4bd2f",
   "metadata": {},
   "outputs": [],
   "source": [
    "(B_x_train,B_y_train),(B_x_test,B_y_test) = datasets.boston_housing.load_data()"
   ]
  },
  {
   "cell_type": "code",
   "execution_count": null,
   "id": "cf167051",
   "metadata": {},
   "outputs": [],
   "source": [
    "B_x_train.shape"
   ]
  },
  {
   "cell_type": "markdown",
   "id": "c78b1528",
   "metadata": {},
   "source": [
    "### cifar100"
   ]
  },
  {
   "cell_type": "code",
   "execution_count": null,
   "id": "9cefbcc3",
   "metadata": {},
   "outputs": [],
   "source": [
    "(C_x_train,C_y_train),(C_x_test,C_y_test) = datasets.cifar100.load_data()"
   ]
  },
  {
   "cell_type": "code",
   "execution_count": null,
   "id": "c86b19b8",
   "metadata": {},
   "outputs": [],
   "source": [
    "datasets.cifar100"
   ]
  },
  {
   "cell_type": "code",
   "execution_count": null,
   "id": "a6d05890",
   "metadata": {},
   "outputs": [],
   "source": [
    "C_x_train.shape"
   ]
  },
  {
   "cell_type": "code",
   "execution_count": null,
   "id": "12a4f3d3",
   "metadata": {},
   "outputs": [],
   "source": [
    "fig, axes = plt.subplots(10, 10,figsize=(10,10))\n",
    "for index,ax in enumerate(axes.flat):\n",
    "    ax.imshow(C_x_train[index])\n",
    "    ax.axis('off')\n",
    "    ax.text(0,-1,C_y_train[index])\n",
    "\n",
    "\n",
    "plt.show()"
   ]
  },
  {
   "cell_type": "code",
   "execution_count": null,
   "id": "0b0bb1a1",
   "metadata": {},
   "outputs": [],
   "source": []
  },
  {
   "cell_type": "code",
   "execution_count": 3,
   "id": "04c97035",
   "metadata": {},
   "outputs": [],
   "source": [
    "import tensorflow as tf\n",
    "from tensorflow.keras import datasets"
   ]
  },
  {
   "cell_type": "markdown",
   "id": "a392bc27",
   "metadata": {},
   "source": [
    "#### 数据载入，归一化"
   ]
  },
  {
   "cell_type": "code",
   "execution_count": 17,
   "id": "65b880bc",
   "metadata": {},
   "outputs": [],
   "source": [
    "(x_train,y_train),(x_test,y_test) = datasets.mnist.load_data()\n",
    "x_train = x_train/255\n",
    "x_test = x_test/255"
   ]
  },
  {
   "cell_type": "markdown",
   "id": "43b7e105",
   "metadata": {},
   "source": [
    "#### 搭建网络结构"
   ]
  },
  {
   "cell_type": "code",
   "execution_count": 18,
   "id": "51df594c",
   "metadata": {},
   "outputs": [],
   "source": [
    "model = tf.keras.models.Sequential([\n",
    "    tf.keras.layers.Flatten(),#扁平化 相当于reshape(num,-1)\n",
    "    tf.keras.layers.Dense(200,activation=\"relu\"),#relu,sigmoid\n",
    "    tf.keras.layers.Dense(100,activation=\"relu\"),\n",
    "    tf.keras.layers.Dense(50,activation=\"relu\"),\n",
    "    tf.keras.layers.Dense(10,activation='softmax')#输出层,节点数=类别数，激活函数用softmax 概率总和为1\n",
    "])"
   ]
  },
  {
   "cell_type": "markdown",
   "id": "0f470093",
   "metadata": {},
   "source": [
    "#### 定义训练超参数"
   ]
  },
  {
   "cell_type": "code",
   "execution_count": 19,
   "id": "36a2dfd6",
   "metadata": {},
   "outputs": [],
   "source": [
    "model.compile(optimizer=tf.keras.optimizers.SGD(),\n",
    "              loss=tf.keras.losses.SparseCategoricalCrossentropy(from_logits=False),\n",
    "             metrics=['accuracy'])"
   ]
  },
  {
   "cell_type": "markdown",
   "id": "6b81894a",
   "metadata": {},
   "source": [
    "#### 模型保存位置"
   ]
  },
  {
   "cell_type": "code",
   "execution_count": 20,
   "id": "80e2f1f7",
   "metadata": {},
   "outputs": [],
   "source": [
    "checkpoint_path = './checkpoint/mnist.ckpt'\n",
    "cp_callback = tf.keras.callbacks.ModelCheckpoint(filepath=checkpoint_path,\n",
    "                                                save_weights_only=True,\n",
    "                                                save_best_only=True)"
   ]
  },
  {
   "cell_type": "markdown",
   "id": "2afada63",
   "metadata": {},
   "source": [
    "#### 模型训练"
   ]
  },
  {
   "cell_type": "code",
   "execution_count": 21,
   "id": "118e7b68",
   "metadata": {},
   "outputs": [
    {
     "name": "stdout",
     "output_type": "stream",
     "text": [
      "Epoch 1/10\n",
      "1875/1875 [==============================] - 7s 4ms/step - loss: 0.6694 - accuracy: 0.8131 - val_loss: 0.2882 - val_accuracy: 0.9185\n",
      "Epoch 2/10\n",
      "1875/1875 [==============================] - 7s 4ms/step - loss: 0.2614 - accuracy: 0.9244 - val_loss: 0.2123 - val_accuracy: 0.9384\n",
      "Epoch 3/10\n",
      "1875/1875 [==============================] - 7s 4ms/step - loss: 0.2035 - accuracy: 0.9414 - val_loss: 0.1749 - val_accuracy: 0.9475\n",
      "Epoch 4/10\n",
      "1875/1875 [==============================] - 5s 3ms/step - loss: 0.1674 - accuracy: 0.9517 - val_loss: 0.1614 - val_accuracy: 0.9519\n",
      "Epoch 5/10\n",
      "1875/1875 [==============================] - 6s 3ms/step - loss: 0.1429 - accuracy: 0.9580 - val_loss: 0.1355 - val_accuracy: 0.9587\n",
      "Epoch 6/10\n",
      "1875/1875 [==============================] - 7s 4ms/step - loss: 0.1239 - accuracy: 0.9645 - val_loss: 0.1342 - val_accuracy: 0.9607\n",
      "Epoch 7/10\n",
      "1875/1875 [==============================] - 7s 4ms/step - loss: 0.1098 - accuracy: 0.9684 - val_loss: 0.1152 - val_accuracy: 0.9641\n",
      "Epoch 8/10\n",
      "1875/1875 [==============================] - 7s 4ms/step - loss: 0.0973 - accuracy: 0.9718 - val_loss: 0.1118 - val_accuracy: 0.9666\n",
      "Epoch 9/10\n",
      "1875/1875 [==============================] - 7s 4ms/step - loss: 0.0867 - accuracy: 0.9749 - val_loss: 0.1006 - val_accuracy: 0.9681\n",
      "Epoch 10/10\n",
      "1875/1875 [==============================] - 7s 4ms/step - loss: 0.0777 - accuracy: 0.9778 - val_loss: 0.0952 - val_accuracy: 0.9696\n"
     ]
    }
   ],
   "source": [
    "history = model.fit(x_train,y_train,epochs=10,\n",
    "                    validation_data=(x_test,y_test),#validation_data验证数据集\n",
    "                    validation_freq=1,#validation_freq每轮验证数量\n",
    "                   callbacks=[cp_callback])"
   ]
  },
  {
   "cell_type": "code",
   "execution_count": 22,
   "id": "aa280e4f",
   "metadata": {},
   "outputs": [
    {
     "name": "stdout",
     "output_type": "stream",
     "text": [
      "Model: \"sequential_3\"\n",
      "_________________________________________________________________\n",
      " Layer (type)                Output Shape              Param #   \n",
      "=================================================================\n",
      " flatten_3 (Flatten)         (None, 784)               0         \n",
      "                                                                 \n",
      " dense_12 (Dense)            (None, 200)               157000    \n",
      "                                                                 \n",
      " dense_13 (Dense)            (None, 100)               20100     \n",
      "                                                                 \n",
      " dense_14 (Dense)            (None, 50)                5050      \n",
      "                                                                 \n",
      " dense_15 (Dense)            (None, 10)                510       \n",
      "                                                                 \n",
      "=================================================================\n",
      "Total params: 182,660\n",
      "Trainable params: 182,660\n",
      "Non-trainable params: 0\n",
      "_________________________________________________________________\n"
     ]
    }
   ],
   "source": [
    "model.summary()"
   ]
  },
  {
   "cell_type": "code",
   "execution_count": 23,
   "id": "059387f0",
   "metadata": {},
   "outputs": [
    {
     "data": {
      "text/plain": [
       "array([[3.1877325e-06, 3.1279831e-07, 9.5213909e-05, 8.3521946e-04,\n",
       "        2.2145032e-08, 5.8827345e-06, 2.8620900e-10, 9.9898928e-01,\n",
       "        1.3002053e-06, 6.9545225e-05]], dtype=float32)"
      ]
     },
     "execution_count": 23,
     "metadata": {},
     "output_type": "execute_result"
    }
   ],
   "source": [
    "model.predict(x_test[0].reshape(-1,28,28))"
   ]
  },
  {
   "cell_type": "markdown",
   "id": "1941af6e",
   "metadata": {},
   "source": [
    "#### 可视化"
   ]
  },
  {
   "cell_type": "code",
   "execution_count": 24,
   "id": "04a0bcb5",
   "metadata": {},
   "outputs": [],
   "source": [
    "loss = history.history['loss']\n",
    "accuracy = history.history['accuracy']\n",
    "val_loss = history.history['val_loss']\n",
    "val_accuracy = history.history['val_accuracy']"
   ]
  },
  {
   "cell_type": "code",
   "execution_count": 25,
   "id": "a030852c",
   "metadata": {},
   "outputs": [
    {
     "data": {
      "image/png": "[encoded data removed]",
      "text/plain": [
       "<Figure size 640x480 with 2 Axes>"
      ]
     },
     "metadata": {},
     "output_type": "display_data"
    }
   ],
   "source": [
    "import matplotlib.pyplot as plt\n",
    "\n",
    "plt.subplot(1,2,1)\n",
    "plt.plot(loss)\n",
    "plt.plot(val_loss)\n",
    "plt.title(\"loss in train and val\")\n",
    "\n",
    "plt.subplot(1,2,2)\n",
    "plt.plot(accuracy)\n",
    "plt.plot(val_accuracy)\n",
    "plt.title(\"accuracy in train and val\")\n",
    "\n",
    "plt.show()"
   ]
  },
  {
   "cell_type": "code",
   "execution_count": 26,
   "id": "dd8b7c72",
   "metadata": {},
   "outputs": [
    {
     "name": "stdout",
     "output_type": "stream",
     "text": [
      "WARNING:tensorflow:Detecting that an object or model or tf.train.Checkpoint is being deleted with unrestored values. See the following logs for the specific values in question. To silence these warnings, use `status.expect_partial()`. See https://www.tensorflow.org/api_docs/python/tf/train/Checkpoint#restorefor details about the status object returned by the restore function.\n",
      "WARNING:tensorflow:Value in checkpoint could not be found in the restored object: (root).optimizer.iter\n",
      "WARNING:tensorflow:Value in checkpoint could not be found in the restored object: (root).optimizer.decay\n",
      "WARNING:tensorflow:Value in checkpoint could not be found in the restored object: (root).optimizer.learning_rate\n",
      "WARNING:tensorflow:Value in checkpoint could not be found in the restored object: (root).optimizer.momentum\n",
      "313/313 [==============================] - 1s 3ms/step - loss: 0.0952 - accuracy: 0.9696\n",
      "0.0951753705739975 0.9696000218391418\n"
     ]
    }
   ],
   "source": [
    "#数据集做测试的搭配测试集的正确率，即进行模型评估\n",
    "import tensorflow as tf\n",
    "\n",
    "#评价\n",
    "test_loss,test_acc = model.evaluate(x_test,y_test)\n",
    "print(test_loss,test_acc)"
   ]
  },
  {
   "cell_type": "markdown",
   "id": "08d301a0",
   "metadata": {},
   "source": [
    "#### 模型调用测试"
   ]
  },
  {
   "cell_type": "code",
   "execution_count": 27,
   "id": "359fd872",
   "metadata": {},
   "outputs": [
    {
     "name": "stdout",
     "output_type": "stream",
     "text": [
      "WARNING:tensorflow:5 out of the last 5 calls to <function Model.make_predict_function.<locals>.predict_function at 0x0000015611EBED30> triggered tf.function retracing. Tracing is expensive and the excessive number of tracings could be due to (1) creating @tf.function repeatedly in a loop, (2) passing tensors with different shapes, (3) passing Python objects instead of tensors. For (1), please define your @tf.function outside of the loop. For (2), @tf.function has experimental_relax_shapes=True option that relaxes argument shapes that can avoid unnecessary retracing. For (3), please refer to https://www.tensorflow.org/guide/function#controlling_retracing and https://www.tensorflow.org/api_docs/python/tf/function for  more details.\n",
      "[[3.8285640e-01 9.3636032e-08 6.3568662e-04 1.7901803e-07 3.8091614e-05\n",
      "  2.8364604e-02 1.3779604e-01 3.5529337e-07 4.5029566e-01 1.2871469e-05]]\n"
     ]
    },
    {
     "data": {
      "text/plain": [
       "8"
      ]
     },
     "execution_count": 27,
     "metadata": {},
     "output_type": "execute_result"
    }
   ],
   "source": [
    "#单张图片预测\n",
    "import tensorflow as tf\n",
    "from PIL import Image\n",
    "import numpy as np\n",
    "\n",
    "img = Image.open('./1.png')\n",
    "#转灰度图\n",
    "img = img.resize((28,28)).convert('L')\n",
    "#调整大小\n",
    "img_array = np.array(img)\n",
    "img_array = (255 - img_array)/255\n",
    "img_array = img_array.reshape(-1,28,28)\n",
    "\n",
    "\n",
    "#网络结构层\n",
    "model = tf.keras.models.Sequential([\n",
    "    tf.keras.layers.Flatten(),#扁平化 相当于reshape(num,-1)\n",
    "    tf.keras.layers.Dense(200,activation=\"relu\"),#relu,sigmoid\n",
    "    tf.keras.layers.Dense(100,activation=\"relu\"),\n",
    "    tf.keras.layers.Dense(50,activation=\"relu\"),\n",
    "    tf.keras.layers.Dense(10,activation='softmax')#输出层,节点数=类别数，激活函数用softmax 概率总和为1\n",
    "])\n",
    "#权重保存路径\n",
    "checkpoint_path = './checkpoint/mnist.ckpt'\n",
    "#读取权重文件\n",
    "model.load_weights(checkpoint_path)\n",
    "\n",
    "\n",
    "result = model.predict(img_array)\n",
    "print(result)\n",
    "pre = np.argmax(result)\n",
    "pre"
   ]
  },
  {
   "cell_type": "markdown",
   "id": "9aa55805",
   "metadata": {},
   "source": [
    "## 鸢尾花数据集的训练"
   ]
  },
  {
   "cell_type": "code",
   "execution_count": 52,
   "id": "5d520151",
   "metadata": {},
   "outputs": [],
   "source": [
    "from sklearn import datasets\n",
    "from sklearn.model_selection import train_test_split\n",
    "import tensorflow as tf\n",
    "import numpy as np"
   ]
  },
  {
   "cell_type": "code",
   "execution_count": 40,
   "id": "c4072081",
   "metadata": {},
   "outputs": [],
   "source": [
    "R = datasets.load_iris()"
   ]
  },
  {
   "cell_type": "code",
   "execution_count": 41,
   "id": "28c5835a",
   "metadata": {},
   "outputs": [],
   "source": [
    "X = R.data\n",
    "Y = R.target"
   ]
  },
  {
   "cell_type": "code",
   "execution_count": 42,
   "id": "34d254d5",
   "metadata": {},
   "outputs": [],
   "source": [
    "x_train,x_test,y_train,y_test = train_test_split(X,Y,test_size=0.2)"
   ]
  },
  {
   "cell_type": "code",
   "execution_count": 44,
   "id": "f4da830a",
   "metadata": {},
   "outputs": [],
   "source": [
    "#网络结构层\n",
    "model = tf.keras.models.Sequential([\n",
    "    tf.keras.layers.Flatten(),#扁平化 相当于reshape(num,-1)\n",
    "    tf.keras.layers.Dense(200,activation=\"relu\"),#relu,sigmoid\n",
    "    tf.keras.layers.Dense(100,activation=\"relu\"),\n",
    "    tf.keras.layers.Dense(50,activation=\"relu\"),\n",
    "    tf.keras.layers.Dense(10,activation='softmax')#输出层,节点数=类别数，激活函数用softmax 概率总和为1\n",
    "])"
   ]
  },
  {
   "cell_type": "code",
   "execution_count": 46,
   "id": "f183a63f",
   "metadata": {},
   "outputs": [],
   "source": [
    "model.compile(optimizer=tf.keras.optimizers.SGD(),\n",
    "              loss=tf.keras.losses.SparseCategoricalCrossentropy(from_logits=False),\n",
    "             metrics=['accuracy'])"
   ]
  },
  {
   "cell_type": "code",
   "execution_count": 48,
   "id": "39af8b45",
   "metadata": {},
   "outputs": [],
   "source": [
    "checkpoint_path = './checkpoint/iris.ckpt'\n",
    "cp_callback = tf.keras.callbacks.ModelCheckpoint(filepath=checkpoint_path,\n",
    "                                                save_weights_only=True,\n",
    "                                                save_best_only=True)"
   ]
  },
  {
   "cell_type": "code",
   "execution_count": 49,
   "id": "4dacb458",
   "metadata": {},
   "outputs": [
    {
     "name": "stdout",
     "output_type": "stream",
     "text": [
      "Epoch 1/10\n",
      "4/4 [==============================] - 0s 37ms/step - loss: 2.5012 - accuracy: 0.0000e+00 - val_loss: 2.0533 - val_accuracy: 0.3667\n",
      "Epoch 2/10\n",
      "4/4 [==============================] - 0s 17ms/step - loss: 1.9399 - accuracy: 0.3667 - val_loss: 1.7307 - val_accuracy: 0.6667\n",
      "Epoch 3/10\n",
      "4/4 [==============================] - 0s 21ms/step - loss: 1.6518 - accuracy: 0.5083 - val_loss: 1.5265 - val_accuracy: 0.6333\n",
      "Epoch 4/10\n",
      "4/4 [==============================] - 0s 18ms/step - loss: 1.4539 - accuracy: 0.5000 - val_loss: 1.3661 - val_accuracy: 0.6333\n",
      "Epoch 5/10\n",
      "4/4 [==============================] - 0s 19ms/step - loss: 1.3157 - accuracy: 0.5500 - val_loss: 1.2386 - val_accuracy: 0.6333\n",
      "Epoch 6/10\n",
      "4/4 [==============================] - 0s 17ms/step - loss: 1.1813 - accuracy: 0.6667 - val_loss: 1.1432 - val_accuracy: 0.8667\n",
      "Epoch 7/10\n",
      "4/4 [==============================] - 0s 20ms/step - loss: 1.0981 - accuracy: 0.7417 - val_loss: 1.0753 - val_accuracy: 0.6667\n",
      "Epoch 8/10\n",
      "4/4 [==============================] - 0s 23ms/step - loss: 1.0467 - accuracy: 0.7167 - val_loss: 1.0213 - val_accuracy: 0.8333\n",
      "Epoch 9/10\n",
      "4/4 [==============================] - 0s 17ms/step - loss: 1.0033 - accuracy: 0.7583 - val_loss: 1.0054 - val_accuracy: 0.6333\n",
      "Epoch 10/10\n",
      "4/4 [==============================] - 0s 19ms/step - loss: 0.9468 - accuracy: 0.7333 - val_loss: 0.9433 - val_accuracy: 0.7333\n"
     ]
    }
   ],
   "source": [
    "history = model.fit(x_train,y_train,epochs=10,\n",
    "                    validation_data=(x_test,y_test),#validation_data验证数据集\n",
    "                    validation_freq=1,#validation_freq每轮验证数量\n",
    "                   callbacks=[cp_callback])"
   ]
  },
  {
   "cell_type": "code",
   "execution_count": 50,
   "id": "1926690c",
   "metadata": {},
   "outputs": [
    {
     "name": "stdout",
     "output_type": "stream",
     "text": [
      "Model: \"sequential_5\"\n",
      "_________________________________________________________________\n",
      " Layer (type)                Output Shape              Param #   \n",
      "=================================================================\n",
      " flatten_5 (Flatten)         (None, 4)                 0         \n",
      "                                                                 \n",
      " dense_20 (Dense)            (None, 200)               1000      \n",
      "                                                                 \n",
      " dense_21 (Dense)            (None, 100)               20100     \n",
      "                                                                 \n",
      " dense_22 (Dense)            (None, 50)                5050      \n",
      "                                                                 \n",
      " dense_23 (Dense)            (None, 10)                510       \n",
      "                                                                 \n",
      "=================================================================\n",
      "Total params: 26,660\n",
      "Trainable params: 26,660\n",
      "Non-trainable params: 0\n",
      "_________________________________________________________________\n"
     ]
    }
   ],
   "source": [
    "model.summary()"
   ]
  },
  {
   "cell_type": "code",
   "execution_count": 56,
   "id": "282836ec",
   "metadata": {},
   "outputs": [],
   "source": [
    "loss = history.history['loss']\n",
    "accuracy = history.history['accuracy']\n",
    "val_loss = history.history['val_loss']\n",
    "val_accuracy = history.history['val_accuracy']"
   ]
  },
  {
   "cell_type": "code",
   "execution_count": 57,
   "id": "e6cc983f",
   "metadata": {},
   "outputs": [
    {
     "data": {
      "image/png": "[encoded data removed]",
      "text/plain": [
       "<Figure size 640x480 with 2 Axes>"
      ]
     },
     "metadata": {},
     "output_type": "display_data"
    }
   ],
   "source": [
    "import matplotlib.pyplot as plt\n",
    "\n",
    "plt.subplot(1,2,1)\n",
    "plt.plot(loss)\n",
    "plt.plot(val_loss)\n",
    "plt.title(\"loss in train and val\")\n",
    "\n",
    "plt.subplot(1,2,2)\n",
    "plt.plot(accuracy)\n",
    "plt.plot(val_accuracy)\n",
    "plt.title(\"accuracy in train and val\")\n",
    "\n",
    "plt.show()"
   ]
  },
  {
   "cell_type": "code",
   "execution_count": null,
   "id": "72366198",
   "metadata": {},
   "outputs": [],
   "source": []
  }
 ],
 "metadata": {
  "kernelspec": {
   "display_name": "Python 3 (ipykernel)",
   "language": "python",
   "name": "python3"
  },
  "language_info": {
   "codemirror_mode": {
    "name": "ipython",
    "version": 3
   },
   "file_extension": ".py",
   "mimetype": "text/x-python",
   "name": "python",
   "nbconvert_exporter": "python",
   "pygments_lexer": "ipython3",
   "version": "3.9.13"
  }
 },
 "nbformat": 4,
 "nbformat_minor": 5
}
