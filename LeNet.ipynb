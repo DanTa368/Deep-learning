{
 "cells": [
  {
   "cell_type": "markdown",
   "id": "b4bd27f2",
   "metadata": {},
   "source": [
    "### LeNet-5"
   ]
  },
  {
   "cell_type": "code",
   "execution_count": 29,
   "id": "4bc0b9d9",
   "metadata": {},
   "outputs": [],
   "source": [
    "import tensorflow as tf\n",
    "from matplotlib import pyplot as plt\n",
    "import numpy as np\n",
    "from PIL import Image\n",
    "import cv2\n",
    "import os\n",
    "import time"
   ]
  },
  {
   "cell_type": "code",
   "execution_count": 14,
   "id": "9d1954a5",
   "metadata": {},
   "outputs": [],
   "source": [
    "(x_train,y_train),(x_test,y_test)=tf.keras.datasets.mnist.load_data()\n",
    "x_train = x_train/255.\n",
    "x_test = x_test/255.\n",
    "x_train = x_train.reshape(60000, 28, 28,1)\n",
    "x_test = x_test.reshape(10000,28,28,1)"
   ]
  },
  {
   "cell_type": "code",
   "execution_count": 16,
   "id": "b7989fe0",
   "metadata": {},
   "outputs": [
    {
     "data": {
      "text/plain": [
       "(10000, 28, 28, 1)"
      ]
     },
     "execution_count": 16,
     "metadata": {},
     "output_type": "execute_result"
    }
   ],
   "source": [
    "x_test.shape"
   ]
  },
  {
   "cell_type": "code",
   "execution_count": 17,
   "id": "961808e8",
   "metadata": {},
   "outputs": [],
   "source": [
    "leNet5 = tf.keras.models.Sequential([\n",
    "    tf.keras.layers.Conv2D(10,kernel_size=(5,5),strides=1,padding='same',activation='relu'),\n",
    "    tf.keras.layers.MaxPooling2D(pool_size=(2,2),strides=2),\n",
    "    tf.keras.layers.Conv2D(20,kernel_size=(5,5),strides=1,padding='same',activation='relu'),\n",
    "    tf.keras.layers.MaxPool2D(pool_size=(2,2),strides=2),\n",
    "    tf.keras.layers.Flatten(),\n",
    "    tf.keras.layers.Dense(100,activation='sigmoid'),\n",
    "    tf.keras.layers.Dense(50,activation='sigmoid'),\n",
    "    tf.keras.layers.Dense(10,activation='softmax')\n",
    "])"
   ]
  },
  {
   "cell_type": "code",
   "execution_count": 18,
   "id": "27ddc319",
   "metadata": {},
   "outputs": [],
   "source": [
    "leNet5.compile(optimizer='adam',\n",
    "               loss=tf.keras.losses.SparseCategoricalCrossentropy(from_logits=False),\n",
    "              metrics=['accuracy'])"
   ]
  },
  {
   "cell_type": "code",
   "execution_count": 19,
   "id": "ada3afb1",
   "metadata": {},
   "outputs": [
    {
     "name": "stdout",
     "output_type": "stream",
     "text": [
      "Epoch 1/20\n",
      "1875/1875 [==============================] - 9s 4ms/step - loss: 0.2899 - accuracy: 0.9345 - val_loss: 0.0608 - val_accuracy: 0.9839\n",
      "Epoch 2/20\n",
      "1875/1875 [==============================] - 8s 4ms/step - loss: 0.0587 - accuracy: 0.9829 - val_loss: 0.0434 - val_accuracy: 0.9868\n",
      "Epoch 3/20\n",
      "1875/1875 [==============================] - 8s 4ms/step - loss: 0.0389 - accuracy: 0.9884 - val_loss: 0.0391 - val_accuracy: 0.9872\n",
      "Epoch 4/20\n",
      "1875/1875 [==============================] - 8s 4ms/step - loss: 0.0300 - accuracy: 0.9911 - val_loss: 0.0358 - val_accuracy: 0.9886\n",
      "Epoch 5/20\n",
      "1875/1875 [==============================] - 8s 4ms/step - loss: 0.0211 - accuracy: 0.9934 - val_loss: 0.0291 - val_accuracy: 0.9905\n",
      "Epoch 6/20\n",
      "1875/1875 [==============================] - 8s 4ms/step - loss: 0.0170 - accuracy: 0.9948 - val_loss: 0.0329 - val_accuracy: 0.9899\n",
      "Epoch 7/20\n",
      "1875/1875 [==============================] - 8s 4ms/step - loss: 0.0133 - accuracy: 0.9960 - val_loss: 0.0331 - val_accuracy: 0.9889\n",
      "Epoch 8/20\n",
      "1875/1875 [==============================] - 8s 4ms/step - loss: 0.0114 - accuracy: 0.9964 - val_loss: 0.0294 - val_accuracy: 0.9910\n",
      "Epoch 9/20\n",
      "1875/1875 [==============================] - 8s 4ms/step - loss: 0.0089 - accuracy: 0.9974 - val_loss: 0.0338 - val_accuracy: 0.9906\n",
      "Epoch 10/20\n",
      "1875/1875 [==============================] - 8s 4ms/step - loss: 0.0080 - accuracy: 0.9977 - val_loss: 0.0319 - val_accuracy: 0.9908\n",
      "Epoch 11/20\n",
      "1875/1875 [==============================] - 8s 4ms/step - loss: 0.0066 - accuracy: 0.9981 - val_loss: 0.0388 - val_accuracy: 0.9900\n",
      "Epoch 12/20\n",
      "1875/1875 [==============================] - 8s 4ms/step - loss: 0.0062 - accuracy: 0.9981 - val_loss: 0.0337 - val_accuracy: 0.9908\n",
      "Epoch 13/20\n",
      "1875/1875 [==============================] - 8s 4ms/step - loss: 0.0044 - accuracy: 0.9988 - val_loss: 0.0328 - val_accuracy: 0.9906\n",
      "Epoch 14/20\n",
      "1875/1875 [==============================] - 8s 4ms/step - loss: 0.0046 - accuracy: 0.9985 - val_loss: 0.0399 - val_accuracy: 0.9898\n",
      "Epoch 15/20\n",
      "1875/1875 [==============================] - 8s 4ms/step - loss: 0.0050 - accuracy: 0.9982 - val_loss: 0.0356 - val_accuracy: 0.9908\n",
      "Epoch 16/20\n",
      "1875/1875 [==============================] - 7s 4ms/step - loss: 0.0039 - accuracy: 0.9989 - val_loss: 0.0323 - val_accuracy: 0.9915\n",
      "Epoch 17/20\n",
      "1875/1875 [==============================] - 8s 4ms/step - loss: 0.0039 - accuracy: 0.9987 - val_loss: 0.0337 - val_accuracy: 0.9913\n",
      "Epoch 18/20\n",
      "1875/1875 [==============================] - 8s 4ms/step - loss: 0.0035 - accuracy: 0.9987 - val_loss: 0.0297 - val_accuracy: 0.9929\n",
      "Epoch 19/20\n",
      "1875/1875 [==============================] - 8s 4ms/step - loss: 0.0024 - accuracy: 0.9993 - val_loss: 0.0390 - val_accuracy: 0.9914\n",
      "Epoch 20/20\n",
      "1875/1875 [==============================] - 8s 4ms/step - loss: 0.0032 - accuracy: 0.9991 - val_loss: 0.0383 - val_accuracy: 0.9910\n"
     ]
    },
    {
     "data": {
      "text/plain": [
       "<keras.callbacks.History at 0x2c9ae1bca00>"
      ]
     },
     "execution_count": 19,
     "metadata": {},
     "output_type": "execute_result"
    }
   ],
   "source": [
    "leNet5.fit(x_train,y_train,\n",
    "           batch_size=32,\n",
    "           validation_data=(x_test,y_test),\n",
    "           validation_freq=1,\n",
    "           epochs=20)"
   ]
  },
  {
   "cell_type": "code",
   "execution_count": 20,
   "id": "3e024c00",
   "metadata": {},
   "outputs": [
    {
     "name": "stdout",
     "output_type": "stream",
     "text": [
      "Model: \"sequential_1\"\n",
      "_________________________________________________________________\n",
      " Layer (type)                Output Shape              Param #   \n",
      "=================================================================\n",
      " conv2d_2 (Conv2D)           (None, 28, 28, 10)        260       \n",
      "                                                                 \n",
      " max_pooling2d_2 (MaxPooling  (None, 14, 14, 10)       0         \n",
      " 2D)                                                             \n",
      "                                                                 \n",
      " conv2d_3 (Conv2D)           (None, 14, 14, 20)        5020      \n",
      "                                                                 \n",
      " max_pooling2d_3 (MaxPooling  (None, 7, 7, 20)         0         \n",
      " 2D)                                                             \n",
      "                                                                 \n",
      " flatten_1 (Flatten)         (None, 980)               0         \n",
      "                                                                 \n",
      " dense_3 (Dense)             (None, 100)               98100     \n",
      "                                                                 \n",
      " dense_4 (Dense)             (None, 50)                5050      \n",
      "                                                                 \n",
      " dense_5 (Dense)             (None, 10)                510       \n",
      "                                                                 \n",
      "=================================================================\n",
      "Total params: 108,940\n",
      "Trainable params: 108,940\n",
      "Non-trainable params: 0\n",
      "_________________________________________________________________\n"
     ]
    }
   ],
   "source": [
    "leNet5.summary()"
   ]
  },
  {
   "cell_type": "code",
   "execution_count": 30,
   "id": "32e9c94b",
   "metadata": {},
   "outputs": [],
   "source": [
    "def read_img(file_path):\n",
    "    start = time.time()\n",
    "    file_name = os.listdir(file_path)\n",
    "    x = []\n",
    "    y = []\n",
    "    for i in file_name:\n",
    "        img = Image.open(file_path+i)\n",
    "        img = img.resize((28,28)).convert('L')\n",
    "        img_array = np.array(img)\n",
    "        label = i.split('_')[-1].split('.')[0]\n",
    "        x.append(img_array)\n",
    "        y.append(label)\n",
    "    x = np.array(x)\n",
    "    y = np.array(y)\n",
    "    y = y.astype(np.int64)\n",
    "    print(f'run time is {time.time() - start}')\n",
    "    return x,y"
   ]
  },
  {
   "cell_type": "code",
   "execution_count": 33,
   "id": "b871f125",
   "metadata": {},
   "outputs": [
    {
     "name": "stdout",
     "output_type": "stream",
     "text": [
      "run time is 8.245073795318604\n",
      "run time is 1.3660783767700195\n"
     ]
    }
   ],
   "source": [
    "x_train,y_train = read_img('./mnist_image_label/mnist_train_jpg_60000/')\n",
    "x_test,y_test = read_img('./mnist_image_label/mnist_test_jpg_10000/')\n",
    "x_train = x_train/255.\n",
    "x_test = x_test/255.\n",
    "x_train = x_train.reshape(60000, 28, 28,1)\n",
    "x_test = x_test.reshape(10000,28,28,1)"
   ]
  },
  {
   "cell_type": "code",
   "execution_count": 40,
   "id": "b4edc57c",
   "metadata": {},
   "outputs": [
    {
     "name": "stdout",
     "output_type": "stream",
     "text": [
      "313/313 [==============================] - 1s 4ms/step - loss: 0.0397 - accuracy: 0.9910\n",
      "test-loss===> 0.03965176269412041\n",
      "test-acc===> 0.9909999966621399\n"
     ]
    }
   ],
   "source": [
    "test_loss,test_acc = leNet5.evaluate(x_test,y_test)\n",
    "print('test-loss===>',test_loss)\n",
    "print('test-acc===>',test_acc)"
   ]
  },
  {
   "cell_type": "code",
   "execution_count": 42,
   "id": "9551d934",
   "metadata": {},
   "outputs": [
    {
     "name": "stdout",
     "output_type": "stream",
     "text": [
      "1875/1875 [==============================] - 5s 3ms/step - loss: 0.0054 - accuracy: 0.9982\n",
      "train-loss===> 0.005359938833862543\n",
      "train-acc===> 0.998199999332428\n"
     ]
    }
   ],
   "source": [
    "train_loss,train_acc = leNet5.evaluate(x_train,y_train)\n",
    "print('train-loss===>',train_loss)\n",
    "print('train-acc===>',train_acc)"
   ]
  },
  {
   "cell_type": "code",
   "execution_count": null,
   "id": "50ce4c16",
   "metadata": {},
   "outputs": [],
   "source": []
  }
 ],
 "metadata": {
  "kernelspec": {
   "display_name": "Python 3 (ipykernel)",
   "language": "python",
   "name": "python3"
  },
  "language_info": {
   "codemirror_mode": {
    "name": "ipython",
    "version": 3
   },
   "file_extension": ".py",
   "mimetype": "text/x-python",
   "name": "python",
   "nbconvert_exporter": "python",
   "pygments_lexer": "ipython3",
   "version": "3.9.13"
  }
 },
 "nbformat": 4,
 "nbformat_minor": 5
}
